{
 "cells": [
  {
   "cell_type": "markdown",
   "id": "874b944b",
   "metadata": {},
   "source": [
    "# TRADE ANALYSIS \n",
    "---"
   ]
  },
  {
   "cell_type": "markdown",
   "id": "6dee3104",
   "metadata": {},
   "source": [
    "## Project Contents:\n",
    "\n",
    "1. Project Information\n",
    "2. Description of Data\n",
    "3. Data Sampling\n",
    "4. Project Objectives\n",
    "5. Data Analysis\n",
    "6. Observations / Findings\n",
    "7. Managerial Insights / Recommendations\n",
    "---"
   ]
  },
  {
   "cell_type": "markdown",
   "id": "ad643f64",
   "metadata": {},
   "source": [
    "## 1. Project Information\n",
    "* Title: Data Visualization (Dashboard) with Python using Pandas, Numpy, Matplotlib & Streamlit Libraries \n",
    "* Submitted by : **Mohit Agarwal (055024)**\n",
    "\n",
    "---"
   ]
  },
  {
   "cell_type": "markdown",
   "id": "6d9a53fc",
   "metadata": {},
   "source": [
    "## 2. Description of Data\n",
    "\n",
    "- Data Source: [Dataset link](https://www.kaggle.com/datasets/chakilamvishwas/imports-exports-15000)"
   ]
  },
  {
   "cell_type": "markdown",
   "id": "ad87475c",
   "metadata": {},
   "source": [
    "### Data Columns Description:\n",
    "\n",
    "1. Transaction_ID: Unique identifier for each trade transaction.\n",
    "2. Country: Country of origin or destination for the trade.\n",
    "3. Product: Product being traded.\n",
    "4. Import_Export: Indicates whether the transaction is an import or export.\n",
    "5. Quantity: Amount of the product traded.\n",
    "6. Value: Monetary value of the product in USD.\n",
    "7. Date: Date of the transaction.\n",
    "8. Category: Category of the product (e.g., Electronics, Clothing, Machinery).\n",
    "9. Port: Port of entry or departure.\n",
    "10. Customs_Code: Customs or HS code for product classification.\n",
    "11. Weight: Weight of the product in kilograms.\n",
    "12. Shipping_Method: Method used for shipping (e.g., Air, Sea, Land).\n",
    "13. Supplier: Name of the supplier or manufacturer.\n",
    "14. Customer: Name of the customer or recipient.\n",
    "15. Invoice_Number: Unique invoice number for the transaction.\n",
    "16. Payment_Terms: Terms of payment (e.g., Net 30, Net 60, Cash on Delivery).\n",
    "\n",
    "**Data Format**: The dataset is provided in CSV format\n",
    "\n",
    "*Additional Notes:\n",
    "The dataset consists of 15,000 rows, ensuring a substantial sample size for meaningful analysis.\n",
    "Data is generated with realistic variability, simulating actual trade transactions.*"
   ]
  },
  {
   "cell_type": "markdown",
   "id": "1ee00fb5",
   "metadata": {},
   "source": [
    "Data Type: Since the dataset contains multiple entities (countries) and records data over time, this is an example of **Panel Data** (also called longitudinal data)"
   ]
  },
  {
   "cell_type": "markdown",
   "id": "68ba4477",
   "metadata": {},
   "source": [
    "### Data Variable Type\n",
    "As observed, the dataset contains:\n",
    "1. **All** non-null Variables\n",
    "2. Numbers:\n",
    "    1. Interger Variables: **3**  (*Quantity, Customs_Code, Invoice_Number*)\n",
    "    2. Float (Decimal) Variables: **2**  (*Value, Weight*)\n",
    "3. Text: **9**  (*Country, Product, Import_Export, Category, Port, Shipping_Method, Supplier, Customer, Payment_Terms*)\n",
    "4. DateTime: **1** (*Date*)\n",
    "\n",
    "---"
   ]
  },
  {
   "cell_type": "markdown",
   "id": "1e0a987c",
   "metadata": {},
   "source": [
    "## 3. Data Sampling\n",
    "\n",
    "From the Dataset containing 15,000 values, a sample of 3001 entries was taken. The dataset sample (now refered as my_sample) was taken into account for further exploration and visualization. To match with the project objectives, a new column was added to the sample dataset called **Total Value** which represented the product of value of the product and it's quantity Imported/Exported."
   ]
  },
  {
   "cell_type": "markdown",
   "id": "d92891d6",
   "metadata": {},
   "source": [
    "My_sample dataset consists of follwing Nominal, Ordinal and Non-Categorical Data as follows:\n",
    "1. Index_variables are 'Transaction_ID' and 'Invoice_Number'\n",
    "2. Categorical Variables:\n",
    "    - Nominal_Variables are Country, Product, Import_Export, Category, Port, Shipping_Method, Supplier, Customs_Code and Customer\n",
    "    - Ordinal_variable is Payment_Terms\n",
    "3. Non_Categorical_Variables are Quantity, Value and Weight\n",
    "\n",
    "---"
   ]
  },
  {
   "cell_type": "markdown",
   "id": "eaefe8bc",
   "metadata": {},
   "source": [
    "## 4. Project Objectives: Trade Analysis\n",
    "\n",
    "The objective of this project is to **understand the drivers of trade flow efficiency** by analyzing supplier behavior, payment terms, and order timing patterns.\n",
    "\n",
    "The analysis aims to identify **key trends** in international trade, uncover trade flow dynamics, and assess frequently traded goods. By highlighting seasonal and regional variations, it seeks to provide actionable insights that can inform decisions on optimizing global trade processes. \n",
    "\n",
    "---"
   ]
  },
  {
   "cell_type": "markdown",
   "id": "d94d031e",
   "metadata": {},
   "source": [
    "## 5. Exploratory Data Analysis\n",
    "\n",
    "Primarily the data was split into Categorical and Non-Categorical variables for Analysis. The analysis carried forward was as follows:\n",
    "- Non-Categorical Variables:\n",
    "    1. Measures of Central Tendency {Minimum | Maximum | Mean | Median | Mode | Percentile\n",
    "    2. Measures of Dispersion {Range | Standard Deviation | Skewness | Kurtosis | Correlation (Matrix) }\n",
    "    3. Composite Measure {Coefficient of Variation | Confidence Interval}\n",
    "    \n",
    "- Categorical Variables:\n",
    "    {*For this category, the analysis is based on the variable Imports_Exports*}\n",
    "    \n",
    "    1. Count | Frequency | Proportion | Minimum | Maximum | Mode | Rank \n",
    "    \n",
    "- Trade Trend Analysis (based on Imports and Exports) :\n",
    "\n",
    "    - ***Assumption**:*\n",
    "        1. The Value for Imports = The CP for purchase of goods by a Country (Products brought into the Country)\n",
    "        2. The Value for Exports = The SP of goods exported to different Countries (Products Sold by a Country to Another)\n",
    "        3. **Similar shipping costs assumed over every medium of shipping and to and from each country due to limited availability of shipping cost data**\n",
    "    \n",
    "    - The Analysis carried was based on following Major Subheads, split into multiple queries:\n",
    "        - Trade Volume Analysis\n",
    "        - Temporal Trends (Yearly/Monthly Trends)\n",
    "        - Geographical Trade Patterns\n",
    "        - Supplier Behavior\n",
    "        - Trade Performance (Evaluated based on Country)\n",
    "        - Cost and Revenue Analysis\n",
    "        - Shipping and Logistics Analysis\n",
    "        - Payment Term Analysis\n",
    "        \n",
    "\n",
    "---"
   ]
  },
  {
   "cell_type": "markdown",
   "id": "6c27b7c7",
   "metadata": {},
   "source": [
    "## 6. Observations\n",
    "\n",
    "1. **From Non-Categorical Variables, we observed the following:**\n",
    "    - Symmetry: Both Quantity and Value show a relatively symmetric distribution, with their mean and median being close.\n",
    "    - Variability: There is considerable variability in all three variables, as indicated by the standard deviations and the range between minimum and maximum values.\n",
    "    - Skewness: Although not directly visible, given that the minimum values are much lower and the maximum values are quite high, these variables could be slightly positively skewed, with a few higher values pulling the mean above the median.\n",
    "    - Mode values are lower than the mean and median for Value and Weight, which could indicate some common small transactions.\n",
    "    - Range values confirm that the data has a very wide spread, indicating diverse transaction sizes.\n",
    "    - Symmetry: All three variables have very low skewness, indicating their distributions are quite symmetric.\n",
    "    - Flat Distributions: The negative kurtosis values for all three variables suggest that the distributions are flatter than normal, with fewer outliers.\n",
    "    - Moderate Relative Variability: All Non-Categorical variables exhibit a moderate degree of relative variability, with CV values **above 55%**. This indicates that while there is variation in the data, it’s not extreme.\n",
    "    - Confidence in the Mean: The narrow confidence intervals suggest that, despite the variability, the estimates for the mean of each variable are fairly precise.\n",
    "    - Weight's Higher Variability: While the confidence interval for weight is wider than those for quantity and value, the overall variability in weight reflects that the traded goods may have a more diverse range of weights compared to their quantities or values.\n",
    "    - The variables are largely independent, with no evidence of strong direct causal relationships based on the correlation matrix.\n",
    "    \n",
    "2. **For Categorical Variables, the observations were as follows:**\n",
    "    - Frequency: The dataset is perfectly sampled with a 0.51:0.49 ratio of Import_Export values.\n",
    "    - The no. of Imports in the sample is more than no. of Exports, but sice their frquencies are comparable, they dont have much difference between no. of values\n",
    "\n",
    "3. **Trade Trend Analysis observations:**\n",
    "    - Top Exporting Countries: India, Congo, and Maldives are among the countries exporting the highest value of goods.\n",
    "    - Top Exported Products: Onto, Now, and Mr are the top exported products. Although Onto generates the most wealth for its suppliers, Now is not among the top 10 wealth-generating products for the country, and Mr is ranked 8th.\n",
    "    - Top Imported Products: Explain, Strong, and Focus were the top imported products.\n",
    "    - 2021 was the year with the maximum imported products, and 2019 had the minimum exported products. One probable cause could be COVID-19.\n",
    "    - August 2018 was the month with the highest volume of imports.\n",
    "    - Highest Valued Goods Imported in Countries: Bahrain, Brazil, and Belarus.\n",
    "    - Highest Valued Goods Exported from Countries: India, Congo, and Maldives.\n",
    "    - Top Suppliers: Wright Group and Brown PLC are the leading suppliers, contributing the most in terms of total value of exported goods.\n",
    "    - Trade Balance: A positive trade balance was observed for countries that export more than they import, and vice versa for countries with a negative trade balance. Bahrain has the largest trade balance gap, indicating a focus on exports.\n",
    "    - Average Trade Value per Transaction was **$5057.81**.\n",
    "    - Maximum Average value per product is for the product **need**\n",
    "    - Preferred Payment Terms: Cash on Delivery is the most preferred payment term in Bahrain, while countries like India favor Net 30 terms.\n",
    "    - Time Between Orders: The average time between orders is approximately 1.85 days for exports and 1.80 days for imports, indicating similar purchasing patterns.\n",
    "    \n",
    "---"
   ]
  },
  {
   "cell_type": "markdown",
   "id": "91c50936",
   "metadata": {},
   "source": [
    "## 7. Managerial Insights and Recommendations"
   ]
  },
  {
   "cell_type": "markdown",
   "id": "4d7b9607",
   "metadata": {},
   "source": [
    "**1. Trade Flow and Market Opportunities**\n",
    "\n",
    "- Balanced Trade Flow: With an almost equal split between imports and exports (51:49), the trade environment for the analyzed markets is balanced. This stability suggests that both importing and exporting operations are equally viable areas of focus, depending on the country or product.\n",
    "- Opportunities in Export Markets: Countries such as India, Congo, and Maldives are identified as top exporters of goods. **Companies looking to enter or expand in these markets should align their offerings to these countries’ key export demands.** Moreover, the export of products like **Onto**, which generates significant wealth, **presents a lucrative opportunity for suppliers in these markets**.\n",
    "- Emerging Import Trends: Products like Explain, Strong, and Focus are the top imported goods. This suggests a demand for these products in the analyzed markets, making them **potential areas of focus for international suppliers or exporters**.\n",
    "    \n",
    "**2. Product-Level Insights for Strategic Positioning**\n",
    "\n",
    "- Top Exported Products: **Onto, Now, and Mr** are key exported products, but there are notable differences in their economic contributions. While Onto leads in wealth generation, Now does not feature in the top wealth-generating products despite being a top export. This suggests a **mismatch between product volume and value, signaling that suppliers may need to reassess their pricing strategies or focus on higher-value exports.**\n",
    "- Product Wealth Potential: Mr ranks 8th in wealth generation but is one of the top exported products. This implies that **opportunities may exist to improve its value through better market positioning or finding higher-value markets for its export.**\n",
    "\n",
    "**3. Yearly and Monthly Trade Fluctuations**\n",
    "\n",
    "- Impact of Global Events: The year 2021 saw the highest volume of imports, while 2019 had the lowest volume of exports, likely influenced by global events such as COVID-19. **The potential long-term effects of such disruptions and plan for diversification strategies must be considered to mitigate risk in the future**\n",
    "- Seasonal Trends: August 2018 was the month with the highest volume of imports, indicating a potential seasonal spike. **Planning inventory and logistics operations around these peak periods can help optimize supply chain performance and reduce costs during periods of high demand.**\n",
    "\n",
    "**4. Supply Chain and Supplier Management**\n",
    "\n",
    "- Leading Suppliers: Wright Group and Brown PLC have emerged as the top suppliers contributing the most to the total value of exported goods. **Strengthening relationships with these suppliers or exploring collaborations could provide competitive advantages in pricing, delivery speed, and product availability.**\n",
    "- Focus on Trade Balance: Countries like Bahrain have the largest trade balance gap, focusing more on exports. **We should explore opportunities in these regions for export-led growth or assess the demand for imported goods in the markets to address trade imbalances.**\n",
    "\n",
    "**5. Product Pricing and Transactional Insights**\n",
    "\n",
    "- Average Trade Value per Transaction: The average trade value per transaction is $5057.81, which serves as a benchmark for evaluating the efficiency and profitability of international transactions. Whether their transactions fall below or above this average must be analysed further to analyze the factors influencing transaction size and value.\n",
    "- Product Profitability: The product Need has the highest average value per product, indicating it could be a high-margin product for exporters . **Focusing on increasing the trade of such high-value products can help boost profitability.**\n",
    "\n",
    "**6. Payment Terms and Transaction Patterns**\n",
    "\n",
    "- Payment Terms: Cash on Delivery is preferred in countries like Bahrain, while Net 30 terms are common in India. Understanding regional payment preferences is essential for negotiating better payment terms and ensuring smoother transactions. **Customizing payment options based on country-specific preferences could improve cash flow management.**\n",
    "- Order Frequency: The similar time between orders for both imports and exports (approximately 1.85 days for exports and 1.80 days for imports) suggests that purchasing patterns for both types of trade are steady. **This regularity can help in forecasting demand, planning inventory, and managing production schedules more efficiently.**"
   ]
  },
  {
   "cell_type": "markdown",
   "id": "1dfcc182",
   "metadata": {},
   "source": [
    "### Strategic Recommendations:\n",
    "1. Target High-Value Markets: Focus on the top exporting countries (India, Congo, Maldives) and high-value products like Onto and Mr for maximizing profitability.\n",
    "2. Optimize Supply Chain for Peak Periods: Plan logistics around seasonal spikes (like August) and ensure supply chain resilience during disruptive events such as pandemics.\n",
    "3. Leverage Supplier Relationships: Build stronger partnerships with top suppliers like Wright Group and Brown PLC to secure competitive advantages in pricing and product availability.\n",
    "4. Reevaluate Pricing Strategies: Products like Now, which are exported in large volumes but do not generate top wealth, may require better pricing strategies or repositioning in higher-value markets.\n",
    "5. Enhance Payment Flexibility: Tailor payment terms to match the preferences of different countries to improve transaction efficiency and client satisfaction.\n",
    "6. Diversify to Address Trade Balance: Explore ways to introduce or increase imports in countries with large trade balance gaps, such as Bahrain, to reduce reliance on exports and diversify market presence.\n",
    "\n",
    "---\n",
    "--- *End of Report* ---"
   ]
  },
  {
   "cell_type": "markdown",
   "id": "58731d00",
   "metadata": {},
   "source": [
    "## Project Information"
   ]
  },
  {
   "cell_type": "code",
   "execution_count": 55,
   "id": "4c39185c-d9a6-45a5-8cd1-216eeb1d0a17",
   "metadata": {},
   "outputs": [],
   "source": [
    "# Import Relevant Python Libraries\n",
    "\n",
    "import pandas as pd\n",
    "import numpy as np\n",
    "import scipy.stats as stats\n",
    "import warnings\n",
    "import seaborn as sns\n",
    "import matplotlib.pyplot as plt\n",
    "from scipy import stats\n",
    "warnings.filterwarnings('ignore')"
   ]
  },
  {
   "cell_type": "code",
   "execution_count": 56,
   "id": "972920c5-14c4-46dd-b7db-aaae54cfa8ad",
   "metadata": {},
   "outputs": [],
   "source": [
    "# Load the Test Data\n",
    "\n",
    "my_df = pd.read_csv(\"Imports_Exports_Dataset.csv\",index_col=\"Transaction_ID\")"
   ]
  },
  {
   "cell_type": "code",
   "execution_count": 57,
   "id": "a22a5c30-8f8b-4e64-a996-26349461515c",
   "metadata": {},
   "outputs": [
    {
     "name": "stdout",
     "output_type": "stream",
     "text": [
      "The dimensions of the data is:  (15000, 15)\n"
     ]
    }
   ],
   "source": [
    "# Data Dimensions\n",
    "print(\"The dimensions of the data is: \",my_df.shape)"
   ]
  },
  {
   "cell_type": "code",
   "execution_count": 58,
   "id": "8e8b066a-e9b9-4d3c-8728-cadc54135271",
   "metadata": {
    "scrolled": true
   },
   "outputs": [
    {
     "name": "stdout",
     "output_type": "stream",
     "text": [
      "<class 'pandas.core.frame.DataFrame'>\n",
      "Index: 15000 entries, e3e70682-c209-4cac-a29f-6fbed82c07cd to 5cc039d0-a052-41fd-bfbb-c9f60c4565ac\n",
      "Data columns (total 15 columns):\n",
      " #   Column           Non-Null Count  Dtype  \n",
      "---  ------           --------------  -----  \n",
      " 0   Country          15000 non-null  object \n",
      " 1   Product          15000 non-null  object \n",
      " 2   Import_Export    15000 non-null  object \n",
      " 3   Quantity         15000 non-null  int64  \n",
      " 4   Value            15000 non-null  float64\n",
      " 5   Date             15000 non-null  object \n",
      " 6   Category         15000 non-null  object \n",
      " 7   Port             15000 non-null  object \n",
      " 8   Customs_Code     15000 non-null  int64  \n",
      " 9   Weight           15000 non-null  float64\n",
      " 10  Shipping_Method  15000 non-null  object \n",
      " 11  Supplier         15000 non-null  object \n",
      " 12  Customer         15000 non-null  object \n",
      " 13  Invoice_Number   15000 non-null  int64  \n",
      " 14  Payment_Terms    15000 non-null  object \n",
      "dtypes: float64(2), int64(3), object(10)\n",
      "memory usage: 1.8+ MB\n"
     ]
    }
   ],
   "source": [
    "# Data Variable Type\n",
    "my_df.info()"
   ]
  },
  {
   "cell_type": "markdown",
   "id": "8fccb9de",
   "metadata": {},
   "source": [
    "## Data Sampling"
   ]
  },
  {
   "cell_type": "code",
   "execution_count": 59,
   "id": "bbf458c9-1216-4214-8836-2ec3babfcd9d",
   "metadata": {},
   "outputs": [],
   "source": [
    "# A Unique Sample of 3001 Records \n",
    "# my_sample = pd.read_csv(\"3001_records_sample1.csv\",index_col=\"Transaction_ID\")\n",
    "my_sample = pd.DataFrame.sample(my_df, n=3001, random_state=55024 ,ignore_index=False)\n",
    "# my_sample['Total_Value'] = round(my_sample['Value']*my_sample['Quantity'],0)"
   ]
  },
  {
   "cell_type": "code",
   "execution_count": 60,
   "id": "581e7f2f-1d74-4074-b376-ffc93f549f40",
   "metadata": {},
   "outputs": [
    {
     "data": {
      "text/plain": [
       "(3001, 15)"
      ]
     },
     "execution_count": 60,
     "metadata": {},
     "output_type": "execute_result"
    }
   ],
   "source": [
    "# Displaying the Dimensions of Sample Data.\n",
    "my_sample.shape"
   ]
  },
  {
   "cell_type": "code",
   "execution_count": 61,
   "id": "b6a458e0-e52f-4e35-aa53-9b0c53c7b39a",
   "metadata": {},
   "outputs": [
    {
     "data": {
      "text/html": [
       "<div>\n",
       "<style scoped>\n",
       "    .dataframe tbody tr th:only-of-type {\n",
       "        vertical-align: middle;\n",
       "    }\n",
       "\n",
       "    .dataframe tbody tr th {\n",
       "        vertical-align: top;\n",
       "    }\n",
       "\n",
       "    .dataframe thead th {\n",
       "        text-align: right;\n",
       "    }\n",
       "</style>\n",
       "<table border=\"1\" class=\"dataframe\">\n",
       "  <thead>\n",
       "    <tr style=\"text-align: right;\">\n",
       "      <th></th>\n",
       "      <th>Country</th>\n",
       "      <th>Product</th>\n",
       "      <th>Import_Export</th>\n",
       "      <th>Quantity</th>\n",
       "      <th>Value</th>\n",
       "      <th>Date</th>\n",
       "      <th>Category</th>\n",
       "      <th>Port</th>\n",
       "      <th>Customs_Code</th>\n",
       "      <th>Weight</th>\n",
       "      <th>Shipping_Method</th>\n",
       "      <th>Supplier</th>\n",
       "      <th>Customer</th>\n",
       "      <th>Invoice_Number</th>\n",
       "      <th>Payment_Terms</th>\n",
       "    </tr>\n",
       "    <tr>\n",
       "      <th>Transaction_ID</th>\n",
       "      <th></th>\n",
       "      <th></th>\n",
       "      <th></th>\n",
       "      <th></th>\n",
       "      <th></th>\n",
       "      <th></th>\n",
       "      <th></th>\n",
       "      <th></th>\n",
       "      <th></th>\n",
       "      <th></th>\n",
       "      <th></th>\n",
       "      <th></th>\n",
       "      <th></th>\n",
       "      <th></th>\n",
       "      <th></th>\n",
       "    </tr>\n",
       "  </thead>\n",
       "  <tbody>\n",
       "    <tr>\n",
       "      <th>e6c22011-7b2f-44a1-9b45-d35da3328206</th>\n",
       "      <td>Cook Islands</td>\n",
       "      <td>article</td>\n",
       "      <td>Import</td>\n",
       "      <td>1892</td>\n",
       "      <td>9878.58</td>\n",
       "      <td>30-03-2023</td>\n",
       "      <td>Toys</td>\n",
       "      <td>Catherinehaven</td>\n",
       "      <td>703309</td>\n",
       "      <td>1620.99</td>\n",
       "      <td>Air</td>\n",
       "      <td>Butler-Nelson</td>\n",
       "      <td>Sandra Wright</td>\n",
       "      <td>67661762</td>\n",
       "      <td>Cash on Delivery</td>\n",
       "    </tr>\n",
       "    <tr>\n",
       "      <th>a7d54c9c-edb9-4017-8bac-30fd3dbd8814</th>\n",
       "      <td>Norfolk Island</td>\n",
       "      <td>deal</td>\n",
       "      <td>Import</td>\n",
       "      <td>5978</td>\n",
       "      <td>2495.66</td>\n",
       "      <td>15-12-2019</td>\n",
       "      <td>Clothing</td>\n",
       "      <td>Lake Karenport</td>\n",
       "      <td>153327</td>\n",
       "      <td>3861.55</td>\n",
       "      <td>Sea</td>\n",
       "      <td>Harris-Jones</td>\n",
       "      <td>Sarah Richardson</td>\n",
       "      <td>2832041</td>\n",
       "      <td>Prepaid</td>\n",
       "    </tr>\n",
       "    <tr>\n",
       "      <th>abd9aba3-7b81-46b9-9c8d-634cdd391bd3</th>\n",
       "      <td>Paraguay</td>\n",
       "      <td>loss</td>\n",
       "      <td>Import</td>\n",
       "      <td>2290</td>\n",
       "      <td>4611.84</td>\n",
       "      <td>29-03-2024</td>\n",
       "      <td>Machinery</td>\n",
       "      <td>South Rebecca</td>\n",
       "      <td>161925</td>\n",
       "      <td>4666.11</td>\n",
       "      <td>Land</td>\n",
       "      <td>Hess-Gonzalez</td>\n",
       "      <td>Jeffrey Smith</td>\n",
       "      <td>5670469</td>\n",
       "      <td>Prepaid</td>\n",
       "    </tr>\n",
       "  </tbody>\n",
       "</table>\n",
       "</div>"
      ],
      "text/plain": [
       "                                             Country  Product Import_Export  \\\n",
       "Transaction_ID                                                                \n",
       "e6c22011-7b2f-44a1-9b45-d35da3328206    Cook Islands  article        Import   \n",
       "a7d54c9c-edb9-4017-8bac-30fd3dbd8814  Norfolk Island     deal        Import   \n",
       "abd9aba3-7b81-46b9-9c8d-634cdd391bd3        Paraguay     loss        Import   \n",
       "\n",
       "                                      Quantity    Value        Date  \\\n",
       "Transaction_ID                                                        \n",
       "e6c22011-7b2f-44a1-9b45-d35da3328206      1892  9878.58  30-03-2023   \n",
       "a7d54c9c-edb9-4017-8bac-30fd3dbd8814      5978  2495.66  15-12-2019   \n",
       "abd9aba3-7b81-46b9-9c8d-634cdd391bd3      2290  4611.84  29-03-2024   \n",
       "\n",
       "                                       Category            Port  Customs_Code  \\\n",
       "Transaction_ID                                                                  \n",
       "e6c22011-7b2f-44a1-9b45-d35da3328206       Toys  Catherinehaven        703309   \n",
       "a7d54c9c-edb9-4017-8bac-30fd3dbd8814   Clothing  Lake Karenport        153327   \n",
       "abd9aba3-7b81-46b9-9c8d-634cdd391bd3  Machinery   South Rebecca        161925   \n",
       "\n",
       "                                       Weight Shipping_Method       Supplier  \\\n",
       "Transaction_ID                                                                 \n",
       "e6c22011-7b2f-44a1-9b45-d35da3328206  1620.99             Air  Butler-Nelson   \n",
       "a7d54c9c-edb9-4017-8bac-30fd3dbd8814  3861.55             Sea   Harris-Jones   \n",
       "abd9aba3-7b81-46b9-9c8d-634cdd391bd3  4666.11            Land  Hess-Gonzalez   \n",
       "\n",
       "                                              Customer  Invoice_Number  \\\n",
       "Transaction_ID                                                           \n",
       "e6c22011-7b2f-44a1-9b45-d35da3328206     Sandra Wright        67661762   \n",
       "a7d54c9c-edb9-4017-8bac-30fd3dbd8814  Sarah Richardson         2832041   \n",
       "abd9aba3-7b81-46b9-9c8d-634cdd391bd3     Jeffrey Smith         5670469   \n",
       "\n",
       "                                         Payment_Terms  \n",
       "Transaction_ID                                          \n",
       "e6c22011-7b2f-44a1-9b45-d35da3328206  Cash on Delivery  \n",
       "a7d54c9c-edb9-4017-8bac-30fd3dbd8814           Prepaid  \n",
       "abd9aba3-7b81-46b9-9c8d-634cdd391bd3           Prepaid  "
      ]
     },
     "execution_count": 61,
     "metadata": {},
     "output_type": "execute_result"
    }
   ],
   "source": [
    "my_sample.head(n=3)"
   ]
  },
  {
   "cell_type": "markdown",
   "id": "e9a632f6",
   "metadata": {},
   "source": [
    "### Data Variable Category"
   ]
  },
  {
   "cell_type": "code",
   "execution_count": 62,
   "id": "255a5370-ba06-4277-a3c2-5b7f066497e7",
   "metadata": {},
   "outputs": [
    {
     "name": "stdout",
     "output_type": "stream",
     "text": [
      "The Variables are: ['Country', 'Product', 'Import_Export', 'Quantity', 'Value', 'Date', 'Category', 'Port', 'Customs_Code', 'Weight', 'Shipping_Method', 'Supplier', 'Customer', 'Invoice_Number', 'Payment_Terms']\n"
     ]
    }
   ],
   "source": [
    "# Columns in the dataset\n",
    "variables=list(my_sample.columns)\n",
    "print(\"The Variables are:\", variables)"
   ]
  },
  {
   "cell_type": "code",
   "execution_count": 63,
   "id": "1815ea8d-933e-40fe-ae10-470221ba8e53",
   "metadata": {},
   "outputs": [],
   "source": [
    "# Bifurcating the Variables into Index, Categorical (Nominal, Ordinal) and Non-Categorical Variables\n",
    "\n",
    "Index_variables=['Transaction_ID','Invoice_Number']\n",
    "Nominal_Variables=[ 'Country','Product','Import_Export','Category','Port','Shipping_Method','Supplier','Customer','Customs_Code']\n",
    "Ordinal_variables=['Payment_Terms']\n",
    "Categorical_Variables = Nominal_Variables + Ordinal_variables\n",
    "Non_Categorical_Variables=['Quantity','Value','Weight']"
   ]
  },
  {
   "cell_type": "markdown",
   "id": "cc9e4fd5",
   "metadata": {},
   "source": [
    "---"
   ]
  },
  {
   "cell_type": "markdown",
   "id": "ef961f24",
   "metadata": {},
   "source": [
    "## Exploratory Data Analysis"
   ]
  },
  {
   "cell_type": "markdown",
   "id": "66fa2ade",
   "metadata": {},
   "source": [
    "### Non-Categorical Variables"
   ]
  },
  {
   "cell_type": "code",
   "execution_count": 64,
   "id": "26e3e484",
   "metadata": {
    "scrolled": true
   },
   "outputs": [
    {
     "data": {
      "text/html": [
       "<div>\n",
       "<style scoped>\n",
       "    .dataframe tbody tr th:only-of-type {\n",
       "        vertical-align: middle;\n",
       "    }\n",
       "\n",
       "    .dataframe tbody tr th {\n",
       "        vertical-align: top;\n",
       "    }\n",
       "\n",
       "    .dataframe thead th {\n",
       "        text-align: right;\n",
       "    }\n",
       "</style>\n",
       "<table border=\"1\" class=\"dataframe\">\n",
       "  <thead>\n",
       "    <tr style=\"text-align: right;\">\n",
       "      <th></th>\n",
       "      <th>Quantity</th>\n",
       "      <th>Value</th>\n",
       "      <th>Weight</th>\n",
       "    </tr>\n",
       "  </thead>\n",
       "  <tbody>\n",
       "    <tr>\n",
       "      <th>count</th>\n",
       "      <td>3001.000000</td>\n",
       "      <td>3001.000000</td>\n",
       "      <td>3001.000000</td>\n",
       "    </tr>\n",
       "    <tr>\n",
       "      <th>mean</th>\n",
       "      <td>5032.169277</td>\n",
       "      <td>5101.000750</td>\n",
       "      <td>2480.349380</td>\n",
       "    </tr>\n",
       "    <tr>\n",
       "      <th>std</th>\n",
       "      <td>2850.242315</td>\n",
       "      <td>2852.230301</td>\n",
       "      <td>1447.559729</td>\n",
       "    </tr>\n",
       "    <tr>\n",
       "      <th>min</th>\n",
       "      <td>8.000000</td>\n",
       "      <td>112.090000</td>\n",
       "      <td>1.520000</td>\n",
       "    </tr>\n",
       "    <tr>\n",
       "      <th>25%</th>\n",
       "      <td>2634.000000</td>\n",
       "      <td>2700.000000</td>\n",
       "      <td>1225.230000</td>\n",
       "    </tr>\n",
       "    <tr>\n",
       "      <th>50%</th>\n",
       "      <td>4980.000000</td>\n",
       "      <td>5090.180000</td>\n",
       "      <td>2454.290000</td>\n",
       "    </tr>\n",
       "    <tr>\n",
       "      <th>75%</th>\n",
       "      <td>7513.000000</td>\n",
       "      <td>7531.060000</td>\n",
       "      <td>3712.310000</td>\n",
       "    </tr>\n",
       "    <tr>\n",
       "      <th>max</th>\n",
       "      <td>9982.000000</td>\n",
       "      <td>9996.810000</td>\n",
       "      <td>4997.080000</td>\n",
       "    </tr>\n",
       "  </tbody>\n",
       "</table>\n",
       "</div>"
      ],
      "text/plain": [
       "          Quantity        Value       Weight\n",
       "count  3001.000000  3001.000000  3001.000000\n",
       "mean   5032.169277  5101.000750  2480.349380\n",
       "std    2850.242315  2852.230301  1447.559729\n",
       "min       8.000000   112.090000     1.520000\n",
       "25%    2634.000000  2700.000000  1225.230000\n",
       "50%    4980.000000  5090.180000  2454.290000\n",
       "75%    7513.000000  7531.060000  3712.310000\n",
       "max    9982.000000  9996.810000  4997.080000"
      ]
     },
     "execution_count": 64,
     "metadata": {},
     "output_type": "execute_result"
    }
   ],
   "source": [
    "my_sample[Non_Categorical_Variables].describe()"
   ]
  },
  {
   "cell_type": "markdown",
   "id": "c4b7653a",
   "metadata": {},
   "source": [
    "**Observation:**\n",
    "\n",
    "1. Symmetry: Both Quantity and Value show a relatively symmetric distribution, with their mean and median being close.\n",
    "2. Variability: There is considerable variability in all three variables, as indicated by the standard deviations and the range between minimum and maximum values.\n",
    "3. Skewness: Although not directly visible, given that the minimum values are much lower and the maximum values are quite high, these variables could be slightly positively skewed, with a few higher values pulling the mean above the median."
   ]
  },
  {
   "cell_type": "code",
   "execution_count": 65,
   "id": "2c450fb9",
   "metadata": {
    "scrolled": true
   },
   "outputs": [],
   "source": [
    "def summarize_numerical(my_sample, variables):\n",
    "    summary = {}\n",
    "    \n",
    "    for col in variables:\n",
    "        if col in my_sample[Non_Categorical_Variables]:  # Check if the column exists in the DataFrame\n",
    "            summary[col] = {\n",
    "                'Mode': my_sample[col].mode()[0],\n",
    "                'Range': my_sample[col].max() - my_sample[col].min(),\n",
    "                'Skewness': my_sample[col].skew() ,\n",
    "                'Kurtosis': my_sample[col].kurtosis()\n",
    "            }\n",
    "    return summary"
   ]
  },
  {
   "cell_type": "code",
   "execution_count": 66,
   "id": "55b7d819",
   "metadata": {
    "scrolled": true
   },
   "outputs": [
    {
     "data": {
      "text/html": [
       "<div>\n",
       "<style scoped>\n",
       "    .dataframe tbody tr th:only-of-type {\n",
       "        vertical-align: middle;\n",
       "    }\n",
       "\n",
       "    .dataframe tbody tr th {\n",
       "        vertical-align: top;\n",
       "    }\n",
       "\n",
       "    .dataframe thead th {\n",
       "        text-align: right;\n",
       "    }\n",
       "</style>\n",
       "<table border=\"1\" class=\"dataframe\">\n",
       "  <thead>\n",
       "    <tr style=\"text-align: right;\">\n",
       "      <th></th>\n",
       "      <th>Mode</th>\n",
       "      <th>Range</th>\n",
       "      <th>Skewness</th>\n",
       "      <th>Kurtosis</th>\n",
       "    </tr>\n",
       "  </thead>\n",
       "  <tbody>\n",
       "    <tr>\n",
       "      <th>Quantity</th>\n",
       "      <td>6894.00</td>\n",
       "      <td>9974.00</td>\n",
       "      <td>0.006366</td>\n",
       "      <td>-1.165744</td>\n",
       "    </tr>\n",
       "    <tr>\n",
       "      <th>Value</th>\n",
       "      <td>1861.51</td>\n",
       "      <td>9884.72</td>\n",
       "      <td>-0.012808</td>\n",
       "      <td>-1.173648</td>\n",
       "    </tr>\n",
       "    <tr>\n",
       "      <th>Weight</th>\n",
       "      <td>249.35</td>\n",
       "      <td>4995.56</td>\n",
       "      <td>0.039748</td>\n",
       "      <td>-1.196918</td>\n",
       "    </tr>\n",
       "  </tbody>\n",
       "</table>\n",
       "</div>"
      ],
      "text/plain": [
       "             Mode    Range  Skewness  Kurtosis\n",
       "Quantity  6894.00  9974.00  0.006366 -1.165744\n",
       "Value     1861.51  9884.72 -0.012808 -1.173648\n",
       "Weight     249.35  4995.56  0.039748 -1.196918"
      ]
     },
     "execution_count": 66,
     "metadata": {},
     "output_type": "execute_result"
    }
   ],
   "source": [
    "summary_stats = summarize_numerical(my_sample, Non_Categorical_Variables)\n",
    "summary_df = pd.DataFrame.from_dict(summary_stats, orient='index')\n",
    "summary_df"
   ]
  },
  {
   "cell_type": "markdown",
   "id": "5da20c83",
   "metadata": {},
   "source": [
    "1. Mode values are lower than the mean and median for Value and Weight, which could indicate some common small transactions.\n",
    "2. Range values confirm that the data has a very wide spread, indicating diverse transaction sizes.\n",
    "3. Symmetry: All three variables have very low skewness, indicating their distributions are quite symmetric.\n",
    "4. Flat Distributions: The negative kurtosis values for all three variables suggest that the distributions are flatter than normal, with fewer outliers."
   ]
  },
  {
   "cell_type": "code",
   "execution_count": 67,
   "id": "3c62af32",
   "metadata": {},
   "outputs": [
    {
     "name": "stdout",
     "output_type": "stream",
     "text": [
      "Coefficient of Variation (%):\n",
      "Quantity: 56.64%\n",
      "Value: 55.92%\n",
      "Weight: 58.36%\n"
     ]
    }
   ],
   "source": [
    "# Coefficient of Variation\n",
    "def coefficient_of_variation(data):\n",
    "    mean = data.mean()\n",
    "    std = data.std()\n",
    "    cv = (std / mean) * 100\n",
    "    return cv\n",
    "\n",
    "cv_results = {}\n",
    "\n",
    "for col in Non_Categorical_Variables:\n",
    "    cv_results[col] = coefficient_of_variation(my_sample[col])\n",
    "\n",
    "# Display the results\n",
    "print(\"Coefficient of Variation (%):\")\n",
    "for col, cv in cv_results.items():\n",
    "    print(f\"{col}: {cv:.2f}%\")"
   ]
  },
  {
   "cell_type": "code",
   "execution_count": 68,
   "id": "7c3ffa95",
   "metadata": {
    "scrolled": true
   },
   "outputs": [
    {
     "name": "stdout",
     "output_type": "stream",
     "text": [
      "\n",
      "Confidence Intervals (95%):\n",
      "Quantity: 4930.19 to 5134.15\n",
      "Value: 4998.95 to 5203.05\n",
      "Weight: 2428.56 to 2532.14\n"
     ]
    }
   ],
   "source": [
    "# Confidence Interval for the Mean\n",
    "def confidence_interval(data, confidence=0.95):\n",
    "    mean = data.mean()\n",
    "    std = data.std()\n",
    "    n = len(data)\n",
    "    z = stats.norm.ppf(1 - (1 - confidence) / 2)  # z-score for 95% CI \n",
    "    margin_of_error = z * (std / np.sqrt(n))\n",
    "    lower_bound = mean - margin_of_error\n",
    "    upper_bound = mean + margin_of_error\n",
    "    return (lower_bound, upper_bound)\n",
    "\n",
    "ci_results = {}\n",
    "for col in Non_Categorical_Variables:\n",
    "    ci_results[col] = confidence_interval(my_sample[col])\n",
    "    \n",
    "\n",
    "print(\"\\nConfidence Intervals (95%):\")\n",
    "for col, ci in ci_results.items():\n",
    "    print(f\"{col}: {ci[0]:.2f} to {ci[1]:.2f}\")"
   ]
  },
  {
   "cell_type": "markdown",
   "id": "1f8c5ac7",
   "metadata": {},
   "source": [
    "1. Moderate Relative Variability: All Non-Categorical variables exhibit a moderate degree of relative variability, with CV values **above 55%**. This indicates that while there is variation in the data, it’s not extreme.\n",
    "2. Confidence in the Mean: The narrow confidence intervals suggest that, despite the variability, the estimates for the mean of each variable are fairly precise.\n",
    "3. Weight's Higher Variability: While the confidence interval for weight is wider than those for quantity and value, the overall variability in weight reflects that the traded goods may have a more diverse range of weights compared to their quantities or values."
   ]
  },
  {
   "cell_type": "code",
   "execution_count": 69,
   "id": "aafe685f",
   "metadata": {
    "scrolled": true
   },
   "outputs": [
    {
     "name": "stdout",
     "output_type": "stream",
     "text": [
      "Correlation Matrix:\n"
     ]
    },
    {
     "data": {
      "text/html": [
       "<div>\n",
       "<style scoped>\n",
       "    .dataframe tbody tr th:only-of-type {\n",
       "        vertical-align: middle;\n",
       "    }\n",
       "\n",
       "    .dataframe tbody tr th {\n",
       "        vertical-align: top;\n",
       "    }\n",
       "\n",
       "    .dataframe thead th {\n",
       "        text-align: right;\n",
       "    }\n",
       "</style>\n",
       "<table border=\"1\" class=\"dataframe\">\n",
       "  <thead>\n",
       "    <tr style=\"text-align: right;\">\n",
       "      <th></th>\n",
       "      <th>Quantity</th>\n",
       "      <th>Value</th>\n",
       "      <th>Weight</th>\n",
       "    </tr>\n",
       "  </thead>\n",
       "  <tbody>\n",
       "    <tr>\n",
       "      <th>Quantity</th>\n",
       "      <td>1.000000</td>\n",
       "      <td>-0.003246</td>\n",
       "      <td>-0.011195</td>\n",
       "    </tr>\n",
       "    <tr>\n",
       "      <th>Value</th>\n",
       "      <td>-0.003246</td>\n",
       "      <td>1.000000</td>\n",
       "      <td>0.016714</td>\n",
       "    </tr>\n",
       "    <tr>\n",
       "      <th>Weight</th>\n",
       "      <td>-0.011195</td>\n",
       "      <td>0.016714</td>\n",
       "      <td>1.000000</td>\n",
       "    </tr>\n",
       "  </tbody>\n",
       "</table>\n",
       "</div>"
      ],
      "text/plain": [
       "          Quantity     Value    Weight\n",
       "Quantity  1.000000 -0.003246 -0.011195\n",
       "Value    -0.003246  1.000000  0.016714\n",
       "Weight   -0.011195  0.016714  1.000000"
      ]
     },
     "execution_count": 69,
     "metadata": {},
     "output_type": "execute_result"
    }
   ],
   "source": [
    "correlation_data = my_sample[Non_Categorical_Variables]\n",
    "correlation_matrix = correlation_data.corr()\n",
    "print(\"Correlation Matrix:\")\n",
    "correlation_matrix"
   ]
  },
  {
   "cell_type": "code",
   "execution_count": 70,
   "id": "276513dc",
   "metadata": {
    "scrolled": true
   },
   "outputs": [
    {
     "data": {
      "image/png": "[encoded data removed]",
      "text/plain": [
       "<Figure size 800x500 with 2 Axes>"
      ]
     },
     "metadata": {},
     "output_type": "display_data"
    }
   ],
   "source": [
    "plt.figure(figsize=(8, 5))\n",
    "sns.heatmap(correlation_matrix, annot=True, cmap='coolwarm', linewidths=0.5)\n",
    "plt.title('Correlation Matrix Heatmap')\n",
    "plt.show()"
   ]
  },
  {
   "cell_type": "markdown",
   "id": "9bba7788",
   "metadata": {},
   "source": [
    "Based on this correlation matrix, there are no significant linear causal relationships between the variables. The correlations are all very close to zero, which means that changes in one variable are not strongly associated with changes in another."
   ]
  },
  {
   "cell_type": "markdown",
   "id": "789e5f7f",
   "metadata": {},
   "source": [
    "### Categorical (Based on Imports_Exports)"
   ]
  },
  {
   "cell_type": "code",
   "execution_count": 71,
   "id": "4d48fc63",
   "metadata": {},
   "outputs": [
    {
     "data": {
      "text/plain": [
       "Import_Export\n",
       "Export    1501\n",
       "Import    1500\n",
       "Name: count, dtype: int64"
      ]
     },
     "execution_count": 71,
     "metadata": {},
     "output_type": "execute_result"
    }
   ],
   "source": [
    "#Count of Imports and Exports\n",
    "counts = my_sample['Import_Export'].value_counts()\n",
    "counts"
   ]
  },
  {
   "cell_type": "code",
   "execution_count": 72,
   "id": "d0ae18e8",
   "metadata": {},
   "outputs": [
    {
     "data": {
      "text/plain": [
       "Import_Export\n",
       "Export    0.5\n",
       "Import    0.5\n",
       "Name: count, dtype: float64"
      ]
     },
     "execution_count": 72,
     "metadata": {},
     "output_type": "execute_result"
    }
   ],
   "source": [
    "# Frequency of Imports and Exports\n",
    "frequency = counts / counts.sum()\n",
    "round(frequency,2)"
   ]
  },
  {
   "cell_type": "markdown",
   "id": "15974f7f",
   "metadata": {},
   "source": [
    "---> Comparable frequencies represent that data is split almost equal, thus minimising the need for data sampling"
   ]
  },
  {
   "cell_type": "markdown",
   "id": "31e2ac34",
   "metadata": {},
   "source": [
    "***Splitting Data into Imports and Exports***"
   ]
  },
  {
   "cell_type": "code",
   "execution_count": 73,
   "id": "8eb0622f",
   "metadata": {},
   "outputs": [],
   "source": [
    "Import_export_grouped = my_sample.groupby('Import_Export')\n",
    "import_sample = Import_export_grouped.get_group('Import')\n",
    "export_sample = Import_export_grouped.get_group('Export')"
   ]
  },
  {
   "cell_type": "markdown",
   "id": "cb91e78b",
   "metadata": {},
   "source": [
    "**Assumption**:\n",
    "1. The Value for Imports = The CP for purchase of goods by a Country (Products brought into the Country)\n",
    "2. The Value for Exports = The SP of goods exported to different Countries (Products Sold by a Country to Another)\n",
    "3. **Similar shipping costs assumed over every medium of shipping and to and from each country due to limited availability of shipping cost data**"
   ]
  },
  {
   "cell_type": "code",
   "execution_count": 100,
   "id": "ae81fa51",
   "metadata": {},
   "outputs": [],
   "source": [
    "#Combining Value and Quantity to create Total Value Spent/Generated\n",
    "\n",
    "export_sample['Total_Value'] = round(export_sample['Value']*export_sample['Quantity'],0)\n",
    "import_sample['Total_Value'] = round(import_sample['Value']*import_sample['Quantity'],0)\n",
    "my_sample['Total_Value'] = round(import_sample['Value']*import_sample['Quantity'],0)\n",
    "#import_sample.head(3)"
   ]
  },
  {
   "cell_type": "code",
   "execution_count": 94,
   "id": "764a330c",
   "metadata": {},
   "outputs": [
    {
     "data": {
      "text/plain": [
       "((1500, 18), (1501, 17))"
      ]
     },
     "execution_count": 94,
     "metadata": {},
     "output_type": "execute_result"
    }
   ],
   "source": [
    "import_sample.shape, export_sample.shape"
   ]
  },
  {
   "cell_type": "code",
   "execution_count": 76,
   "id": "72003225",
   "metadata": {},
   "outputs": [
    {
     "name": "stdout",
     "output_type": "stream",
     "text": [
      "Maximum Exports:  Anguilla\n"
     ]
    }
   ],
   "source": [
    "#Minimum and Maximum Values\n",
    "\n",
    "#Country with Max Exports\n",
    "print(\"Maximum Exports: \",export_sample['Country'].value_counts().idxmax())"
   ]
  },
  {
   "cell_type": "code",
   "execution_count": 77,
   "id": "b0217f3d",
   "metadata": {},
   "outputs": [
    {
     "name": "stdout",
     "output_type": "stream",
     "text": [
      "Minimum Exports:  Turkey\n"
     ]
    }
   ],
   "source": [
    "#Country with Min Exports\n",
    "print(\"Minimum Exports: \",export_sample['Country'].value_counts().idxmin())"
   ]
  },
  {
   "cell_type": "code",
   "execution_count": 78,
   "id": "c72aaeb6",
   "metadata": {},
   "outputs": [
    {
     "name": "stdout",
     "output_type": "stream",
     "text": [
      "Maximum Imports:  Bahamas\n"
     ]
    }
   ],
   "source": [
    "#Country with Max Imports\n",
    "print(\"Maximum Imports: \",import_sample['Country'].value_counts().idxmax())"
   ]
  },
  {
   "cell_type": "code",
   "execution_count": 79,
   "id": "045c40fe",
   "metadata": {},
   "outputs": [
    {
     "name": "stdout",
     "output_type": "stream",
     "text": [
      "Minimum Imports:  Guernsey\n"
     ]
    }
   ],
   "source": [
    "#Country with Min Imports\n",
    "print(\"Minimum Imports: \",import_sample['Country'].value_counts().idxmin())"
   ]
  },
  {
   "cell_type": "code",
   "execution_count": 80,
   "id": "d6c34d4d",
   "metadata": {},
   "outputs": [
    {
     "data": {
      "text/plain": [
       "Import_Export\n",
       "Export    1.0\n",
       "Import    2.0\n",
       "Name: count, dtype: float64"
      ]
     },
     "execution_count": 80,
     "metadata": {},
     "output_type": "execute_result"
    }
   ],
   "source": [
    "counts.rank(ascending=False)"
   ]
  },
  {
   "cell_type": "markdown",
   "id": "9a1f2aee",
   "metadata": {},
   "source": [
    "The no. of Imports in the sample is more than no. of Exports, but sice their frquencies are comparable, they dont have much difference between no. of values\n",
    "\n",
    "---"
   ]
  },
  {
   "cell_type": "markdown",
   "id": "baea3131",
   "metadata": {},
   "source": [
    "### Trade Trend Analysis, based on Imports and Exports:"
   ]
  },
  {
   "cell_type": "markdown",
   "id": "4d031580",
   "metadata": {},
   "source": [
    "#### A. Trade Volume Analysis"
   ]
  },
  {
   "cell_type": "code",
   "execution_count": 81,
   "id": "ea576c4c",
   "metadata": {},
   "outputs": [
    {
     "data": {
      "text/html": [
       "<div>\n",
       "<style scoped>\n",
       "    .dataframe tbody tr th:only-of-type {\n",
       "        vertical-align: middle;\n",
       "    }\n",
       "\n",
       "    .dataframe tbody tr th {\n",
       "        vertical-align: top;\n",
       "    }\n",
       "\n",
       "    .dataframe thead th {\n",
       "        text-align: right;\n",
       "    }\n",
       "</style>\n",
       "<table border=\"1\" class=\"dataframe\">\n",
       "  <thead>\n",
       "    <tr style=\"text-align: right;\">\n",
       "      <th></th>\n",
       "      <th>Value</th>\n",
       "    </tr>\n",
       "    <tr>\n",
       "      <th>Import_Export</th>\n",
       "      <th></th>\n",
       "    </tr>\n",
       "  </thead>\n",
       "  <tbody>\n",
       "    <tr>\n",
       "      <th>Export</th>\n",
       "      <td>7632146.30</td>\n",
       "    </tr>\n",
       "    <tr>\n",
       "      <th>Import</th>\n",
       "      <td>7675956.95</td>\n",
       "    </tr>\n",
       "  </tbody>\n",
       "</table>\n",
       "</div>"
      ],
      "text/plain": [
       "                    Value\n",
       "Import_Export            \n",
       "Export         7632146.30\n",
       "Import         7675956.95"
      ]
     },
     "execution_count": 81,
     "metadata": {},
     "output_type": "execute_result"
    }
   ],
   "source": [
    "#Total Value of Goods Exported and Imported between 2019 to 2024\n",
    "\n",
    "import_export_comparison = my_sample.groupby('Import_Export')[['Value']].sum()\n",
    "import_export_comparison"
   ]
  },
  {
   "cell_type": "code",
   "execution_count": 82,
   "id": "94b91463",
   "metadata": {},
   "outputs": [
    {
     "data": {
      "text/html": [
       "<div>\n",
       "<style scoped>\n",
       "    .dataframe tbody tr th:only-of-type {\n",
       "        vertical-align: middle;\n",
       "    }\n",
       "\n",
       "    .dataframe tbody tr th {\n",
       "        vertical-align: top;\n",
       "    }\n",
       "\n",
       "    .dataframe thead th {\n",
       "        text-align: right;\n",
       "    }\n",
       "</style>\n",
       "<table border=\"1\" class=\"dataframe\">\n",
       "  <thead>\n",
       "    <tr style=\"text-align: right;\">\n",
       "      <th></th>\n",
       "      <th>Total_Value</th>\n",
       "    </tr>\n",
       "    <tr>\n",
       "      <th>Country</th>\n",
       "      <th></th>\n",
       "    </tr>\n",
       "  </thead>\n",
       "  <tbody>\n",
       "    <tr>\n",
       "      <th>Heard Island and McDonald Islands</th>\n",
       "      <td>425457553.0</td>\n",
       "    </tr>\n",
       "    <tr>\n",
       "      <th>Korea</th>\n",
       "      <td>351342603.0</td>\n",
       "    </tr>\n",
       "    <tr>\n",
       "      <th>Sierra Leone</th>\n",
       "      <td>351192452.0</td>\n",
       "    </tr>\n",
       "    <tr>\n",
       "      <th>French Guiana</th>\n",
       "      <td>343380408.0</td>\n",
       "    </tr>\n",
       "    <tr>\n",
       "      <th>Congo</th>\n",
       "      <td>336776637.0</td>\n",
       "    </tr>\n",
       "    <tr>\n",
       "      <th>Anguilla</th>\n",
       "      <td>334795364.0</td>\n",
       "    </tr>\n",
       "    <tr>\n",
       "      <th>Indonesia</th>\n",
       "      <td>333088003.0</td>\n",
       "    </tr>\n",
       "    <tr>\n",
       "      <th>Dominica</th>\n",
       "      <td>311795118.0</td>\n",
       "    </tr>\n",
       "    <tr>\n",
       "      <th>Cote d'Ivoire</th>\n",
       "      <td>310762023.0</td>\n",
       "    </tr>\n",
       "    <tr>\n",
       "      <th>Kiribati</th>\n",
       "      <td>310270645.0</td>\n",
       "    </tr>\n",
       "  </tbody>\n",
       "</table>\n",
       "</div>"
      ],
      "text/plain": [
       "                                   Total_Value\n",
       "Country                                       \n",
       "Heard Island and McDonald Islands  425457553.0\n",
       "Korea                              351342603.0\n",
       "Sierra Leone                       351192452.0\n",
       "French Guiana                      343380408.0\n",
       "Congo                              336776637.0\n",
       "Anguilla                           334795364.0\n",
       "Indonesia                          333088003.0\n",
       "Dominica                           311795118.0\n",
       "Cote d'Ivoire                      310762023.0\n",
       "Kiribati                           310270645.0"
      ]
     },
     "execution_count": 82,
     "metadata": {},
     "output_type": "execute_result"
    }
   ],
   "source": [
    "#Top 10 Countries with Maximum Export Sales Profits\n",
    "\n",
    "trade_volume_country = export_sample.groupby('Country')[['Total_Value']].sum().sort_values(by='Total_Value', ascending=False)\n",
    "trade_volume_country.head(n=10)"
   ]
  },
  {
   "cell_type": "code",
   "execution_count": 83,
   "id": "b48a75df",
   "metadata": {},
   "outputs": [
    {
     "data": {
      "text/html": [
       "<div>\n",
       "<style scoped>\n",
       "    .dataframe tbody tr th:only-of-type {\n",
       "        vertical-align: middle;\n",
       "    }\n",
       "\n",
       "    .dataframe tbody tr th {\n",
       "        vertical-align: top;\n",
       "    }\n",
       "\n",
       "    .dataframe thead th {\n",
       "        text-align: right;\n",
       "    }\n",
       "</style>\n",
       "<table border=\"1\" class=\"dataframe\">\n",
       "  <thead>\n",
       "    <tr style=\"text-align: right;\">\n",
       "      <th></th>\n",
       "      <th>Quantity</th>\n",
       "      <th>Value</th>\n",
       "    </tr>\n",
       "    <tr>\n",
       "      <th>Product</th>\n",
       "      <th></th>\n",
       "      <th></th>\n",
       "    </tr>\n",
       "  </thead>\n",
       "  <tbody>\n",
       "    <tr>\n",
       "      <th>professor</th>\n",
       "      <td>39504</td>\n",
       "      <td>32642.89</td>\n",
       "    </tr>\n",
       "    <tr>\n",
       "      <th>out</th>\n",
       "      <td>38399</td>\n",
       "      <td>26953.38</td>\n",
       "    </tr>\n",
       "    <tr>\n",
       "      <th>course</th>\n",
       "      <td>37942</td>\n",
       "      <td>16674.84</td>\n",
       "    </tr>\n",
       "    <tr>\n",
       "      <th>act</th>\n",
       "      <td>37121</td>\n",
       "      <td>21351.51</td>\n",
       "    </tr>\n",
       "    <tr>\n",
       "      <th>respond</th>\n",
       "      <td>35943</td>\n",
       "      <td>24268.24</td>\n",
       "    </tr>\n",
       "    <tr>\n",
       "      <th>each</th>\n",
       "      <td>33549</td>\n",
       "      <td>31072.82</td>\n",
       "    </tr>\n",
       "    <tr>\n",
       "      <th>role</th>\n",
       "      <td>33005</td>\n",
       "      <td>17385.21</td>\n",
       "    </tr>\n",
       "    <tr>\n",
       "      <th>sense</th>\n",
       "      <td>32216</td>\n",
       "      <td>24512.26</td>\n",
       "    </tr>\n",
       "    <tr>\n",
       "      <th>allow</th>\n",
       "      <td>31084</td>\n",
       "      <td>31904.76</td>\n",
       "    </tr>\n",
       "    <tr>\n",
       "      <th>side</th>\n",
       "      <td>29982</td>\n",
       "      <td>24541.83</td>\n",
       "    </tr>\n",
       "  </tbody>\n",
       "</table>\n",
       "</div>"
      ],
      "text/plain": [
       "           Quantity     Value\n",
       "Product                      \n",
       "professor     39504  32642.89\n",
       "out           38399  26953.38\n",
       "course        37942  16674.84\n",
       "act           37121  21351.51\n",
       "respond       35943  24268.24\n",
       "each          33549  31072.82\n",
       "role          33005  17385.21\n",
       "sense         32216  24512.26\n",
       "allow         31084  31904.76\n",
       "side          29982  24541.83"
      ]
     },
     "execution_count": 83,
     "metadata": {},
     "output_type": "execute_result"
    }
   ],
   "source": [
    "# Top 10 Exported Products\n",
    "\n",
    "Max_exported_prod = export_sample.groupby('Product')[['Quantity', 'Value']].sum().sort_values(by='Quantity', ascending=False)\n",
    "Max_exported_prod.head(n=10)"
   ]
  },
  {
   "cell_type": "code",
   "execution_count": 84,
   "id": "b07c35bc",
   "metadata": {},
   "outputs": [
    {
     "data": {
      "text/html": [
       "<div>\n",
       "<style scoped>\n",
       "    .dataframe tbody tr th:only-of-type {\n",
       "        vertical-align: middle;\n",
       "    }\n",
       "\n",
       "    .dataframe tbody tr th {\n",
       "        vertical-align: top;\n",
       "    }\n",
       "\n",
       "    .dataframe thead th {\n",
       "        text-align: right;\n",
       "    }\n",
       "</style>\n",
       "<table border=\"1\" class=\"dataframe\">\n",
       "  <thead>\n",
       "    <tr style=\"text-align: right;\">\n",
       "      <th></th>\n",
       "      <th>Total_Value</th>\n",
       "    </tr>\n",
       "    <tr>\n",
       "      <th>Product</th>\n",
       "      <th></th>\n",
       "    </tr>\n",
       "  </thead>\n",
       "  <tbody>\n",
       "    <tr>\n",
       "      <th>cup</th>\n",
       "      <td>244861213.0</td>\n",
       "    </tr>\n",
       "    <tr>\n",
       "      <th>of</th>\n",
       "      <td>213249982.0</td>\n",
       "    </tr>\n",
       "    <tr>\n",
       "      <th>remember</th>\n",
       "      <td>203837686.0</td>\n",
       "    </tr>\n",
       "    <tr>\n",
       "      <th>morning</th>\n",
       "      <td>202047186.0</td>\n",
       "    </tr>\n",
       "    <tr>\n",
       "      <th>course</th>\n",
       "      <td>198767890.0</td>\n",
       "    </tr>\n",
       "    <tr>\n",
       "      <th>whom</th>\n",
       "      <td>195213954.0</td>\n",
       "    </tr>\n",
       "    <tr>\n",
       "      <th>else</th>\n",
       "      <td>184349608.0</td>\n",
       "    </tr>\n",
       "    <tr>\n",
       "      <th>price</th>\n",
       "      <td>182801023.0</td>\n",
       "    </tr>\n",
       "    <tr>\n",
       "      <th>let</th>\n",
       "      <td>178242794.0</td>\n",
       "    </tr>\n",
       "    <tr>\n",
       "      <th>mother</th>\n",
       "      <td>177082813.0</td>\n",
       "    </tr>\n",
       "  </tbody>\n",
       "</table>\n",
       "</div>"
      ],
      "text/plain": [
       "          Total_Value\n",
       "Product              \n",
       "cup       244861213.0\n",
       "of        213249982.0\n",
       "remember  203837686.0\n",
       "morning   202047186.0\n",
       "course    198767890.0\n",
       "whom      195213954.0\n",
       "else      184349608.0\n",
       "price     182801023.0\n",
       "let       178242794.0\n",
       "mother    177082813.0"
      ]
     },
     "execution_count": 84,
     "metadata": {},
     "output_type": "execute_result"
    }
   ],
   "source": [
    "# Top 10 Products Imported based on Total Wealth Spent from 2019-2024\n",
    "\n",
    "Max_imported_prod = import_sample.groupby('Product')[['Total_Value']].sum().sort_values(by='Total_Value', ascending=False)\n",
    "Max_imported_prod.head(n=10)"
   ]
  },
  {
   "cell_type": "code",
   "execution_count": 85,
   "id": "cfce8182",
   "metadata": {},
   "outputs": [
    {
     "data": {
      "text/html": [
       "<div>\n",
       "<style scoped>\n",
       "    .dataframe tbody tr th:only-of-type {\n",
       "        vertical-align: middle;\n",
       "    }\n",
       "\n",
       "    .dataframe tbody tr th {\n",
       "        vertical-align: top;\n",
       "    }\n",
       "\n",
       "    .dataframe thead th {\n",
       "        text-align: right;\n",
       "    }\n",
       "</style>\n",
       "<table border=\"1\" class=\"dataframe\">\n",
       "  <thead>\n",
       "    <tr style=\"text-align: right;\">\n",
       "      <th></th>\n",
       "      <th>Total_Value</th>\n",
       "    </tr>\n",
       "    <tr>\n",
       "      <th>Product</th>\n",
       "      <th></th>\n",
       "    </tr>\n",
       "  </thead>\n",
       "  <tbody>\n",
       "    <tr>\n",
       "      <th>professor</th>\n",
       "      <td>258705801.0</td>\n",
       "    </tr>\n",
       "    <tr>\n",
       "      <th>out</th>\n",
       "      <td>217150152.0</td>\n",
       "    </tr>\n",
       "    <tr>\n",
       "      <th>each</th>\n",
       "      <td>213308772.0</td>\n",
       "    </tr>\n",
       "    <tr>\n",
       "      <th>respond</th>\n",
       "      <td>208139491.0</td>\n",
       "    </tr>\n",
       "    <tr>\n",
       "      <th>me</th>\n",
       "      <td>205674469.0</td>\n",
       "    </tr>\n",
       "    <tr>\n",
       "      <th>sense</th>\n",
       "      <td>200210918.0</td>\n",
       "    </tr>\n",
       "    <tr>\n",
       "      <th>forget</th>\n",
       "      <td>192790211.0</td>\n",
       "    </tr>\n",
       "    <tr>\n",
       "      <th>allow</th>\n",
       "      <td>188493747.0</td>\n",
       "    </tr>\n",
       "    <tr>\n",
       "      <th>today</th>\n",
       "      <td>186296912.0</td>\n",
       "    </tr>\n",
       "    <tr>\n",
       "      <th>describe</th>\n",
       "      <td>183309547.0</td>\n",
       "    </tr>\n",
       "  </tbody>\n",
       "</table>\n",
       "</div>"
      ],
      "text/plain": [
       "           Total_Value\n",
       "Product               \n",
       "professor  258705801.0\n",
       "out        217150152.0\n",
       "each       213308772.0\n",
       "respond    208139491.0\n",
       "me         205674469.0\n",
       "sense      200210918.0\n",
       "forget     192790211.0\n",
       "allow      188493747.0\n",
       "today      186296912.0\n",
       "describe   183309547.0"
      ]
     },
     "execution_count": 85,
     "metadata": {},
     "output_type": "execute_result"
    }
   ],
   "source": [
    "# Top 10 Products Produced\n",
    "\n",
    "Max_exported_prod = export_sample.groupby('Product')[['Total_Value']].sum().sort_values(by='Total_Value', ascending=False)\n",
    "Max_exported_prod.head(n=10)"
   ]
  },
  {
   "cell_type": "markdown",
   "id": "e7cfbb09",
   "metadata": {},
   "source": [
    "#### B. Temporal Trends (Yearly/Monthly Trends)"
   ]
  },
  {
   "cell_type": "code",
   "execution_count": 86,
   "id": "0e616313",
   "metadata": {
    "scrolled": true
   },
   "outputs": [
    {
     "data": {
      "text/html": [
       "<div>\n",
       "<style scoped>\n",
       "    .dataframe tbody tr th:only-of-type {\n",
       "        vertical-align: middle;\n",
       "    }\n",
       "\n",
       "    .dataframe tbody tr th {\n",
       "        vertical-align: top;\n",
       "    }\n",
       "\n",
       "    .dataframe thead th {\n",
       "        text-align: right;\n",
       "    }\n",
       "</style>\n",
       "<table border=\"1\" class=\"dataframe\">\n",
       "  <thead>\n",
       "    <tr style=\"text-align: right;\">\n",
       "      <th></th>\n",
       "      <th>Total_Value</th>\n",
       "    </tr>\n",
       "    <tr>\n",
       "      <th>Year</th>\n",
       "      <th></th>\n",
       "    </tr>\n",
       "  </thead>\n",
       "  <tbody>\n",
       "    <tr>\n",
       "      <th>2020</th>\n",
       "      <td>7.906312e+09</td>\n",
       "    </tr>\n",
       "    <tr>\n",
       "      <th>2021</th>\n",
       "      <td>7.735303e+09</td>\n",
       "    </tr>\n",
       "    <tr>\n",
       "      <th>2022</th>\n",
       "      <td>7.430272e+09</td>\n",
       "    </tr>\n",
       "    <tr>\n",
       "      <th>2023</th>\n",
       "      <td>7.147059e+09</td>\n",
       "    </tr>\n",
       "    <tr>\n",
       "      <th>2024</th>\n",
       "      <td>5.650458e+09</td>\n",
       "    </tr>\n",
       "    <tr>\n",
       "      <th>2019</th>\n",
       "      <td>2.331254e+09</td>\n",
       "    </tr>\n",
       "  </tbody>\n",
       "</table>\n",
       "</div>"
      ],
      "text/plain": [
       "       Total_Value\n",
       "Year              \n",
       "2020  7.906312e+09\n",
       "2021  7.735303e+09\n",
       "2022  7.430272e+09\n",
       "2023  7.147059e+09\n",
       "2024  5.650458e+09\n",
       "2019  2.331254e+09"
      ]
     },
     "execution_count": 86,
     "metadata": {},
     "output_type": "execute_result"
    }
   ],
   "source": [
    "# Yearly Exports Volume in Descreasing Order (Highest to Lowest)\n",
    "\n",
    "export_sample = export_sample.copy()\n",
    "export_sample['Date'] = pd.to_datetime(export_sample['Date'], dayfirst=True, errors='coerce')\n",
    "#errors = 'coerce' helps handle invalid date errors by replacing the value with NaT (Not a Time)\n",
    "export_sample.loc[:, 'Year'] = export_sample['Date'].dt.year\n",
    "yearly_trends = export_sample.groupby('Year')[['Total_Value']].sum().sort_values(by = 'Total_Value',ascending=False)\n",
    "yearly_trends"
   ]
  },
  {
   "cell_type": "code",
   "execution_count": 87,
   "id": "5d44b438",
   "metadata": {},
   "outputs": [
    {
     "data": {
      "text/html": [
       "<div>\n",
       "<style scoped>\n",
       "    .dataframe tbody tr th:only-of-type {\n",
       "        vertical-align: middle;\n",
       "    }\n",
       "\n",
       "    .dataframe tbody tr th {\n",
       "        vertical-align: top;\n",
       "    }\n",
       "\n",
       "    .dataframe thead th {\n",
       "        text-align: right;\n",
       "    }\n",
       "</style>\n",
       "<table border=\"1\" class=\"dataframe\">\n",
       "  <thead>\n",
       "    <tr style=\"text-align: right;\">\n",
       "      <th></th>\n",
       "      <th>Total_Value</th>\n",
       "    </tr>\n",
       "    <tr>\n",
       "      <th>Year</th>\n",
       "      <th></th>\n",
       "    </tr>\n",
       "  </thead>\n",
       "  <tbody>\n",
       "    <tr>\n",
       "      <th>2020</th>\n",
       "      <td>8.316301e+09</td>\n",
       "    </tr>\n",
       "    <tr>\n",
       "      <th>2023</th>\n",
       "      <td>8.025545e+09</td>\n",
       "    </tr>\n",
       "    <tr>\n",
       "      <th>2022</th>\n",
       "      <td>7.453041e+09</td>\n",
       "    </tr>\n",
       "    <tr>\n",
       "      <th>2021</th>\n",
       "      <td>6.865353e+09</td>\n",
       "    </tr>\n",
       "    <tr>\n",
       "      <th>2024</th>\n",
       "      <td>5.746034e+09</td>\n",
       "    </tr>\n",
       "    <tr>\n",
       "      <th>2019</th>\n",
       "      <td>2.346873e+09</td>\n",
       "    </tr>\n",
       "  </tbody>\n",
       "</table>\n",
       "</div>"
      ],
      "text/plain": [
       "       Total_Value\n",
       "Year              \n",
       "2020  8.316301e+09\n",
       "2023  8.025545e+09\n",
       "2022  7.453041e+09\n",
       "2021  6.865353e+09\n",
       "2024  5.746034e+09\n",
       "2019  2.346873e+09"
      ]
     },
     "execution_count": 87,
     "metadata": {},
     "output_type": "execute_result"
    }
   ],
   "source": [
    "# Yearly Imports Volume in (Max to Min)\n",
    "\n",
    "#errors = 'coerce' helps handle invalid date errors by replacing the value with NaT (Not a Time)\n",
    "import_sample = import_sample.copy()\n",
    "import_sample['Date'] = pd.to_datetime(import_sample['Date'], dayfirst=True, errors='coerce')\n",
    "import_sample.loc[:, 'Year'] = import_sample['Date'].dt.year\n",
    "yearly_trends_imports = import_sample.groupby('Year')[['Total_Value']].sum().sort_values(by = 'Total_Value',ascending=False)\n",
    "yearly_trends_imports"
   ]
  },
  {
   "cell_type": "code",
   "execution_count": 88,
   "id": "a9b555dd",
   "metadata": {},
   "outputs": [
    {
     "data": {
      "text/html": [
       "<div>\n",
       "<style scoped>\n",
       "    .dataframe tbody tr th:only-of-type {\n",
       "        vertical-align: middle;\n",
       "    }\n",
       "\n",
       "    .dataframe tbody tr th {\n",
       "        vertical-align: top;\n",
       "    }\n",
       "\n",
       "    .dataframe thead th {\n",
       "        text-align: right;\n",
       "    }\n",
       "</style>\n",
       "<table border=\"1\" class=\"dataframe\">\n",
       "  <thead>\n",
       "    <tr style=\"text-align: right;\">\n",
       "      <th></th>\n",
       "      <th>Total_Value</th>\n",
       "    </tr>\n",
       "    <tr>\n",
       "      <th>Month</th>\n",
       "      <th></th>\n",
       "    </tr>\n",
       "  </thead>\n",
       "  <tbody>\n",
       "    <tr>\n",
       "      <th>2023-08</th>\n",
       "      <td>1.086256e+09</td>\n",
       "    </tr>\n",
       "    <tr>\n",
       "      <th>2020-02</th>\n",
       "      <td>9.365705e+08</td>\n",
       "    </tr>\n",
       "    <tr>\n",
       "      <th>2020-05</th>\n",
       "      <td>9.352933e+08</td>\n",
       "    </tr>\n",
       "    <tr>\n",
       "      <th>2022-06</th>\n",
       "      <td>9.074596e+08</td>\n",
       "    </tr>\n",
       "    <tr>\n",
       "      <th>2023-01</th>\n",
       "      <td>8.836077e+08</td>\n",
       "    </tr>\n",
       "  </tbody>\n",
       "</table>\n",
       "</div>"
      ],
      "text/plain": [
       "          Total_Value\n",
       "Month                \n",
       "2023-08  1.086256e+09\n",
       "2020-02  9.365705e+08\n",
       "2020-05  9.352933e+08\n",
       "2022-06  9.074596e+08\n",
       "2023-01  8.836077e+08"
      ]
     },
     "execution_count": 88,
     "metadata": {},
     "output_type": "execute_result"
    }
   ],
   "source": [
    "# Top 5 Months with highest volume of Imports\n",
    "\n",
    "import_sample['Month'] = import_sample['Date'].dt.to_period('M')\n",
    "monthly_trends = import_sample.groupby('Month')[['Total_Value']].sum().sort_values(by = 'Total_Value',ascending=False)\n",
    "monthly_trends.head(5)"
   ]
  },
  {
   "cell_type": "markdown",
   "id": "e1ed812d",
   "metadata": {},
   "source": [
    "#### C. Geographical Trade Patterns"
   ]
  },
  {
   "cell_type": "code",
   "execution_count": 89,
   "id": "bad137e6",
   "metadata": {},
   "outputs": [
    {
     "data": {
      "text/html": [
       "<div>\n",
       "<style scoped>\n",
       "    .dataframe tbody tr th:only-of-type {\n",
       "        vertical-align: middle;\n",
       "    }\n",
       "\n",
       "    .dataframe tbody tr th {\n",
       "        vertical-align: top;\n",
       "    }\n",
       "\n",
       "    .dataframe thead th {\n",
       "        text-align: right;\n",
       "    }\n",
       "</style>\n",
       "<table border=\"1\" class=\"dataframe\">\n",
       "  <thead>\n",
       "    <tr style=\"text-align: right;\">\n",
       "      <th></th>\n",
       "      <th>Total_Value</th>\n",
       "    </tr>\n",
       "    <tr>\n",
       "      <th>Country</th>\n",
       "      <th></th>\n",
       "    </tr>\n",
       "  </thead>\n",
       "  <tbody>\n",
       "    <tr>\n",
       "      <th>Grenada</th>\n",
       "      <td>430052794.0</td>\n",
       "    </tr>\n",
       "    <tr>\n",
       "      <th>Czech Republic</th>\n",
       "      <td>428616301.0</td>\n",
       "    </tr>\n",
       "    <tr>\n",
       "      <th>Gabon</th>\n",
       "      <td>422719875.0</td>\n",
       "    </tr>\n",
       "    <tr>\n",
       "      <th>Tonga</th>\n",
       "      <td>421742069.0</td>\n",
       "    </tr>\n",
       "    <tr>\n",
       "      <th>Congo</th>\n",
       "      <td>402173109.0</td>\n",
       "    </tr>\n",
       "    <tr>\n",
       "      <th>Jamaica</th>\n",
       "      <td>369331071.0</td>\n",
       "    </tr>\n",
       "    <tr>\n",
       "      <th>Bahamas</th>\n",
       "      <td>359683538.0</td>\n",
       "    </tr>\n",
       "    <tr>\n",
       "      <th>Solomon Islands</th>\n",
       "      <td>355113619.0</td>\n",
       "    </tr>\n",
       "    <tr>\n",
       "      <th>Kenya</th>\n",
       "      <td>353032224.0</td>\n",
       "    </tr>\n",
       "    <tr>\n",
       "      <th>Guinea-Bissau</th>\n",
       "      <td>352193468.0</td>\n",
       "    </tr>\n",
       "  </tbody>\n",
       "</table>\n",
       "</div>"
      ],
      "text/plain": [
       "                 Total_Value\n",
       "Country                     \n",
       "Grenada          430052794.0\n",
       "Czech Republic   428616301.0\n",
       "Gabon            422719875.0\n",
       "Tonga            421742069.0\n",
       "Congo            402173109.0\n",
       "Jamaica          369331071.0\n",
       "Bahamas          359683538.0\n",
       "Solomon Islands  355113619.0\n",
       "Kenya            353032224.0\n",
       "Guinea-Bissau    352193468.0"
      ]
     },
     "execution_count": 89,
     "metadata": {},
     "output_type": "execute_result"
    }
   ],
   "source": [
    "# Top 10 Countries Importing the highest valued goods [Maximum Amount spent on Goods Imported into the Country]\n",
    "\n",
    "import_sample.groupby('Country')[['Total_Value']].sum().sort_values(by='Total_Value', ascending=False).head(10)"
   ]
  },
  {
   "cell_type": "code",
   "execution_count": 90,
   "id": "c127a718",
   "metadata": {},
   "outputs": [
    {
     "data": {
      "text/html": [
       "<div>\n",
       "<style scoped>\n",
       "    .dataframe tbody tr th:only-of-type {\n",
       "        vertical-align: middle;\n",
       "    }\n",
       "\n",
       "    .dataframe tbody tr th {\n",
       "        vertical-align: top;\n",
       "    }\n",
       "\n",
       "    .dataframe thead th {\n",
       "        text-align: right;\n",
       "    }\n",
       "</style>\n",
       "<table border=\"1\" class=\"dataframe\">\n",
       "  <thead>\n",
       "    <tr style=\"text-align: right;\">\n",
       "      <th></th>\n",
       "      <th>Total_Value</th>\n",
       "    </tr>\n",
       "    <tr>\n",
       "      <th>Country</th>\n",
       "      <th></th>\n",
       "    </tr>\n",
       "  </thead>\n",
       "  <tbody>\n",
       "    <tr>\n",
       "      <th>Heard Island and McDonald Islands</th>\n",
       "      <td>425457553.0</td>\n",
       "    </tr>\n",
       "    <tr>\n",
       "      <th>Korea</th>\n",
       "      <td>351342603.0</td>\n",
       "    </tr>\n",
       "    <tr>\n",
       "      <th>Sierra Leone</th>\n",
       "      <td>351192452.0</td>\n",
       "    </tr>\n",
       "    <tr>\n",
       "      <th>French Guiana</th>\n",
       "      <td>343380408.0</td>\n",
       "    </tr>\n",
       "    <tr>\n",
       "      <th>Congo</th>\n",
       "      <td>336776637.0</td>\n",
       "    </tr>\n",
       "    <tr>\n",
       "      <th>Anguilla</th>\n",
       "      <td>334795364.0</td>\n",
       "    </tr>\n",
       "    <tr>\n",
       "      <th>Indonesia</th>\n",
       "      <td>333088003.0</td>\n",
       "    </tr>\n",
       "    <tr>\n",
       "      <th>Dominica</th>\n",
       "      <td>311795118.0</td>\n",
       "    </tr>\n",
       "    <tr>\n",
       "      <th>Cote d'Ivoire</th>\n",
       "      <td>310762023.0</td>\n",
       "    </tr>\n",
       "    <tr>\n",
       "      <th>Kiribati</th>\n",
       "      <td>310270645.0</td>\n",
       "    </tr>\n",
       "  </tbody>\n",
       "</table>\n",
       "</div>"
      ],
      "text/plain": [
       "                                   Total_Value\n",
       "Country                                       \n",
       "Heard Island and McDonald Islands  425457553.0\n",
       "Korea                              351342603.0\n",
       "Sierra Leone                       351192452.0\n",
       "French Guiana                      343380408.0\n",
       "Congo                              336776637.0\n",
       "Anguilla                           334795364.0\n",
       "Indonesia                          333088003.0\n",
       "Dominica                           311795118.0\n",
       "Cote d'Ivoire                      310762023.0\n",
       "Kiribati                           310270645.0"
      ]
     },
     "execution_count": 90,
     "metadata": {},
     "output_type": "execute_result"
    }
   ],
   "source": [
    "# Top 10 Countries Exporting the highest Valued goods [Maximum weath generation by Exports]\n",
    "\n",
    "export_sample.groupby('Country')[['Total_Value']].sum().sort_values(by='Total_Value', ascending=False).head(10)"
   ]
  },
  {
   "cell_type": "markdown",
   "id": "49cb55ae",
   "metadata": {},
   "source": [
    "#### D. Supplier Behavior"
   ]
  },
  {
   "cell_type": "code",
   "execution_count": 96,
   "id": "941c377c",
   "metadata": {
    "scrolled": true
   },
   "outputs": [
    {
     "data": {
      "text/html": [
       "<div>\n",
       "<style scoped>\n",
       "    .dataframe tbody tr th:only-of-type {\n",
       "        vertical-align: middle;\n",
       "    }\n",
       "\n",
       "    .dataframe tbody tr th {\n",
       "        vertical-align: top;\n",
       "    }\n",
       "\n",
       "    .dataframe thead th {\n",
       "        text-align: right;\n",
       "    }\n",
       "</style>\n",
       "<table border=\"1\" class=\"dataframe\">\n",
       "  <thead>\n",
       "    <tr style=\"text-align: right;\">\n",
       "      <th></th>\n",
       "      <th>Total_Value</th>\n",
       "    </tr>\n",
       "    <tr>\n",
       "      <th>Supplier</th>\n",
       "      <th></th>\n",
       "    </tr>\n",
       "  </thead>\n",
       "  <tbody>\n",
       "    <tr>\n",
       "      <th>Carter Ltd</th>\n",
       "      <td>136109011.0</td>\n",
       "    </tr>\n",
       "    <tr>\n",
       "      <th>Johnson Inc</th>\n",
       "      <td>116481976.0</td>\n",
       "    </tr>\n",
       "    <tr>\n",
       "      <th>Clark Inc</th>\n",
       "      <td>114777244.0</td>\n",
       "    </tr>\n",
       "    <tr>\n",
       "      <th>Nelson Inc</th>\n",
       "      <td>100069675.0</td>\n",
       "    </tr>\n",
       "    <tr>\n",
       "      <th>Reynolds LLC</th>\n",
       "      <td>97932216.0</td>\n",
       "    </tr>\n",
       "    <tr>\n",
       "      <th>Ward-Orr</th>\n",
       "      <td>97154828.0</td>\n",
       "    </tr>\n",
       "    <tr>\n",
       "      <th>Williams-Davenport</th>\n",
       "      <td>96066966.0</td>\n",
       "    </tr>\n",
       "    <tr>\n",
       "      <th>Smith Inc</th>\n",
       "      <td>93873499.0</td>\n",
       "    </tr>\n",
       "    <tr>\n",
       "      <th>Olson, Parks and Powell</th>\n",
       "      <td>93152517.0</td>\n",
       "    </tr>\n",
       "    <tr>\n",
       "      <th>Hart Inc</th>\n",
       "      <td>92151589.0</td>\n",
       "    </tr>\n",
       "  </tbody>\n",
       "</table>\n",
       "</div>"
      ],
      "text/plain": [
       "                         Total_Value\n",
       "Supplier                            \n",
       "Carter Ltd               136109011.0\n",
       "Johnson Inc              116481976.0\n",
       "Clark Inc                114777244.0\n",
       "Nelson Inc               100069675.0\n",
       "Reynolds LLC              97932216.0\n",
       "Ward-Orr                  97154828.0\n",
       "Williams-Davenport        96066966.0\n",
       "Smith Inc                 93873499.0\n",
       "Olson, Parks and Powell   93152517.0\n",
       "Hart Inc                  92151589.0"
      ]
     },
     "execution_count": 96,
     "metadata": {},
     "output_type": "execute_result"
    }
   ],
   "source": [
    "# Top 10 Global Suppliers Exporting their Products, estimated by Wealth Generated\n",
    "\n",
    "export_sample.groupby('Supplier')[['Total_Value']].sum().sort_values(by='Total_Value', ascending=False).head(10)"
   ]
  },
  {
   "cell_type": "markdown",
   "id": "c487cd0d",
   "metadata": {},
   "source": [
    "#### E. Trade Performance (Evaluated based on Country)"
   ]
  },
  {
   "cell_type": "code",
   "execution_count": 102,
   "id": "4a251737",
   "metadata": {
    "scrolled": true
   },
   "outputs": [
    {
     "data": {
      "text/html": [
       "<div>\n",
       "<style scoped>\n",
       "    .dataframe tbody tr th:only-of-type {\n",
       "        vertical-align: middle;\n",
       "    }\n",
       "\n",
       "    .dataframe tbody tr th {\n",
       "        vertical-align: top;\n",
       "    }\n",
       "\n",
       "    .dataframe thead th {\n",
       "        text-align: right;\n",
       "    }\n",
       "</style>\n",
       "<table border=\"1\" class=\"dataframe\">\n",
       "  <thead>\n",
       "    <tr style=\"text-align: right;\">\n",
       "      <th></th>\n",
       "      <th>Import_Total_Value</th>\n",
       "      <th>Export_Total_Value</th>\n",
       "      <th>Trade_Balance</th>\n",
       "    </tr>\n",
       "    <tr>\n",
       "      <th>Country</th>\n",
       "      <th></th>\n",
       "      <th></th>\n",
       "      <th></th>\n",
       "    </tr>\n",
       "  </thead>\n",
       "  <tbody>\n",
       "    <tr>\n",
       "      <th>Afghanistan</th>\n",
       "      <td>0.0</td>\n",
       "      <td>126518911.0</td>\n",
       "      <td>126518911.0</td>\n",
       "    </tr>\n",
       "    <tr>\n",
       "      <th>Albania</th>\n",
       "      <td>0.0</td>\n",
       "      <td>225294157.0</td>\n",
       "      <td>225294157.0</td>\n",
       "    </tr>\n",
       "    <tr>\n",
       "      <th>Algeria</th>\n",
       "      <td>0.0</td>\n",
       "      <td>130776529.0</td>\n",
       "      <td>130776529.0</td>\n",
       "    </tr>\n",
       "    <tr>\n",
       "      <th>American Samoa</th>\n",
       "      <td>0.0</td>\n",
       "      <td>255937566.0</td>\n",
       "      <td>255937566.0</td>\n",
       "    </tr>\n",
       "    <tr>\n",
       "      <th>Andorra</th>\n",
       "      <td>0.0</td>\n",
       "      <td>177490889.0</td>\n",
       "      <td>177490889.0</td>\n",
       "    </tr>\n",
       "  </tbody>\n",
       "</table>\n",
       "</div>"
      ],
      "text/plain": [
       "                Import_Total_Value  Export_Total_Value  Trade_Balance\n",
       "Country                                                              \n",
       "Afghanistan                    0.0         126518911.0    126518911.0\n",
       "Albania                        0.0         225294157.0    225294157.0\n",
       "Algeria                        0.0         130776529.0    130776529.0\n",
       "American Samoa                 0.0         255937566.0    255937566.0\n",
       "Andorra                        0.0         177490889.0    177490889.0"
      ]
     },
     "execution_count": 102,
     "metadata": {},
     "output_type": "execute_result"
    }
   ],
   "source": [
    "trade_balance = my_sample.groupby(['Country', 'Import_Export'])[['Total_Value']].sum().unstack().fillna(0)\n",
    "trade_balance.columns = ['Import_Total_Value', 'Export_Total_Value']\n",
    "trade_balance['Trade_Balance'] = trade_balance['Export_Total_Value'] - trade_balance['Import_Total_Value']\n",
    "trade_balance.head(n=5)"
   ]
  },
  {
   "cell_type": "markdown",
   "id": "6c79fc02",
   "metadata": {},
   "source": [
    "*A positive trade balance represents that the particular country exports more than it imports, and vice-a-versa for Countries with negative Trade Balance*"
   ]
  },
  {
   "cell_type": "code",
   "execution_count": 103,
   "id": "1d413d9b",
   "metadata": {
    "scrolled": true
   },
   "outputs": [
    {
     "data": {
      "text/html": [
       "<div>\n",
       "<style scoped>\n",
       "    .dataframe tbody tr th:only-of-type {\n",
       "        vertical-align: middle;\n",
       "    }\n",
       "\n",
       "    .dataframe tbody tr th {\n",
       "        vertical-align: top;\n",
       "    }\n",
       "\n",
       "    .dataframe thead th {\n",
       "        text-align: right;\n",
       "    }\n",
       "</style>\n",
       "<table border=\"1\" class=\"dataframe\">\n",
       "  <thead>\n",
       "    <tr style=\"text-align: right;\">\n",
       "      <th></th>\n",
       "      <th>Import_Total_Value</th>\n",
       "      <th>Export_Total_Value</th>\n",
       "      <th>Trade_Balance</th>\n",
       "    </tr>\n",
       "    <tr>\n",
       "      <th>Country</th>\n",
       "      <th></th>\n",
       "      <th></th>\n",
       "      <th></th>\n",
       "    </tr>\n",
       "  </thead>\n",
       "  <tbody>\n",
       "    <tr>\n",
       "      <th>Grenada</th>\n",
       "      <td>0.0</td>\n",
       "      <td>430052794.0</td>\n",
       "      <td>430052794.0</td>\n",
       "    </tr>\n",
       "    <tr>\n",
       "      <th>Czech Republic</th>\n",
       "      <td>0.0</td>\n",
       "      <td>428616301.0</td>\n",
       "      <td>428616301.0</td>\n",
       "    </tr>\n",
       "    <tr>\n",
       "      <th>Gabon</th>\n",
       "      <td>0.0</td>\n",
       "      <td>422719875.0</td>\n",
       "      <td>422719875.0</td>\n",
       "    </tr>\n",
       "    <tr>\n",
       "      <th>Tonga</th>\n",
       "      <td>0.0</td>\n",
       "      <td>421742069.0</td>\n",
       "      <td>421742069.0</td>\n",
       "    </tr>\n",
       "    <tr>\n",
       "      <th>Congo</th>\n",
       "      <td>0.0</td>\n",
       "      <td>402173109.0</td>\n",
       "      <td>402173109.0</td>\n",
       "    </tr>\n",
       "  </tbody>\n",
       "</table>\n",
       "</div>"
      ],
      "text/plain": [
       "                Import_Total_Value  Export_Total_Value  Trade_Balance\n",
       "Country                                                              \n",
       "Grenada                        0.0         430052794.0    430052794.0\n",
       "Czech Republic                 0.0         428616301.0    428616301.0\n",
       "Gabon                          0.0         422719875.0    422719875.0\n",
       "Tonga                          0.0         421742069.0    421742069.0\n",
       "Congo                          0.0         402173109.0    402173109.0"
      ]
     },
     "execution_count": 103,
     "metadata": {},
     "output_type": "execute_result"
    }
   ],
   "source": [
    "# Top 5 Countries with Maximum Trade Balance\n",
    "\n",
    "trade_balance.sort_values(by=\"Trade_Balance\",ascending=False).head(5)"
   ]
  },
  {
   "cell_type": "code",
   "execution_count": 104,
   "id": "15cba651",
   "metadata": {},
   "outputs": [
    {
     "data": {
      "text/html": [
       "<div>\n",
       "<style scoped>\n",
       "    .dataframe tbody tr th:only-of-type {\n",
       "        vertical-align: middle;\n",
       "    }\n",
       "\n",
       "    .dataframe tbody tr th {\n",
       "        vertical-align: top;\n",
       "    }\n",
       "\n",
       "    .dataframe thead th {\n",
       "        text-align: right;\n",
       "    }\n",
       "</style>\n",
       "<table border=\"1\" class=\"dataframe\">\n",
       "  <thead>\n",
       "    <tr style=\"text-align: right;\">\n",
       "      <th></th>\n",
       "      <th>Import_Total_Value</th>\n",
       "      <th>Export_Total_Value</th>\n",
       "      <th>Trade_Balance</th>\n",
       "    </tr>\n",
       "    <tr>\n",
       "      <th>Country</th>\n",
       "      <th></th>\n",
       "      <th></th>\n",
       "      <th></th>\n",
       "    </tr>\n",
       "  </thead>\n",
       "  <tbody>\n",
       "    <tr>\n",
       "      <th>Bouvet Island (Bouvetoya)</th>\n",
       "      <td>0.0</td>\n",
       "      <td>822340.0</td>\n",
       "      <td>822340.0</td>\n",
       "    </tr>\n",
       "    <tr>\n",
       "      <th>Syrian Arab Republic</th>\n",
       "      <td>0.0</td>\n",
       "      <td>1315531.0</td>\n",
       "      <td>1315531.0</td>\n",
       "    </tr>\n",
       "    <tr>\n",
       "      <th>Palau</th>\n",
       "      <td>0.0</td>\n",
       "      <td>3128412.0</td>\n",
       "      <td>3128412.0</td>\n",
       "    </tr>\n",
       "    <tr>\n",
       "      <th>Saudi Arabia</th>\n",
       "      <td>0.0</td>\n",
       "      <td>5061595.0</td>\n",
       "      <td>5061595.0</td>\n",
       "    </tr>\n",
       "    <tr>\n",
       "      <th>Germany</th>\n",
       "      <td>0.0</td>\n",
       "      <td>10633707.0</td>\n",
       "      <td>10633707.0</td>\n",
       "    </tr>\n",
       "  </tbody>\n",
       "</table>\n",
       "</div>"
      ],
      "text/plain": [
       "                           Import_Total_Value  Export_Total_Value  \\\n",
       "Country                                                             \n",
       "Bouvet Island (Bouvetoya)                 0.0            822340.0   \n",
       "Syrian Arab Republic                      0.0           1315531.0   \n",
       "Palau                                     0.0           3128412.0   \n",
       "Saudi Arabia                              0.0           5061595.0   \n",
       "Germany                                   0.0          10633707.0   \n",
       "\n",
       "                           Trade_Balance  \n",
       "Country                                   \n",
       "Bouvet Island (Bouvetoya)       822340.0  \n",
       "Syrian Arab Republic           1315531.0  \n",
       "Palau                          3128412.0  \n",
       "Saudi Arabia                   5061595.0  \n",
       "Germany                       10633707.0  "
      ]
     },
     "execution_count": 104,
     "metadata": {},
     "output_type": "execute_result"
    }
   ],
   "source": [
    "#Top 5 Countries Importing More than they Export\n",
    "\n",
    "trade_balance.sort_values(by=\"Trade_Balance\").head(5)"
   ]
  },
  {
   "cell_type": "markdown",
   "id": "5993b3bc",
   "metadata": {},
   "source": [
    "#### F. Cost and Revenue Analysis"
   ]
  },
  {
   "cell_type": "code",
   "execution_count": 105,
   "id": "bc953acd",
   "metadata": {},
   "outputs": [
    {
     "name": "stdout",
     "output_type": "stream",
     "text": [
      "Average Trade Value per Transaction: $5101.0\n"
     ]
    }
   ],
   "source": [
    "# Average Trade Value (Combined for Imported an Exported Products)\n",
    "\n",
    "average_value_per_transaction = my_sample['Value'].mean()\n",
    "print(f\"Average Trade Value per Transaction: ${round(average_value_per_transaction,2)}\")"
   ]
  },
  {
   "cell_type": "code",
   "execution_count": 107,
   "id": "50515973",
   "metadata": {},
   "outputs": [
    {
     "data": {
      "text/plain": [
       "Product\n",
       "common            368.764797\n",
       "natural           255.630193\n",
       "look              139.898221\n",
       "administration    139.594076\n",
       "vote              118.653357\n",
       "early             103.661371\n",
       "boy                85.351370\n",
       "decide             79.628864\n",
       "cut                68.075978\n",
       "mission            58.827425\n",
       "Name: Value_per_Unit, dtype: float64"
      ]
     },
     "execution_count": 107,
     "metadata": {},
     "output_type": "execute_result"
    }
   ],
   "source": [
    "# Average Value per Unit Analysis\n",
    "\n",
    "my_sample['Value_per_Unit'] = my_sample['Value'] / my_sample['Quantity']\n",
    "my_sample.groupby('Product')['Value_per_Unit'].mean().sort_values(ascending=False).head(10)"
   ]
  },
  {
   "cell_type": "markdown",
   "id": "6219b011",
   "metadata": {},
   "source": [
    "#### G. Shipping and Logistics Analysis"
   ]
  },
  {
   "cell_type": "code",
   "execution_count": 108,
   "id": "4138976d",
   "metadata": {},
   "outputs": [
    {
     "data": {
      "text/plain": [
       "Shipping_Method\n",
       "Sea     527\n",
       "Air     524\n",
       "Land    450\n",
       "Name: count, dtype: int64"
      ]
     },
     "execution_count": 108,
     "metadata": {},
     "output_type": "execute_result"
    }
   ],
   "source": [
    "# Shipping Method Preferences for Exported Goods\n",
    "\n",
    "export_sample['Shipping_Method'].value_counts()"
   ]
  },
  {
   "cell_type": "code",
   "execution_count": 109,
   "id": "9e67c22f",
   "metadata": {},
   "outputs": [
    {
     "data": {
      "text/plain": [
       "Shipping_Method\n",
       "Air     545\n",
       "Land    482\n",
       "Sea     473\n",
       "Name: count, dtype: int64"
      ]
     },
     "execution_count": 109,
     "metadata": {},
     "output_type": "execute_result"
    }
   ],
   "source": [
    "# Shipping Method Preferences for Imported Goods\n",
    "\n",
    "import_sample['Shipping_Method'].value_counts()"
   ]
  },
  {
   "cell_type": "code",
   "execution_count": 110,
   "id": "6c162ebf",
   "metadata": {},
   "outputs": [
    {
     "data": {
      "text/html": [
       "<div>\n",
       "<style scoped>\n",
       "    .dataframe tbody tr th:only-of-type {\n",
       "        vertical-align: middle;\n",
       "    }\n",
       "\n",
       "    .dataframe tbody tr th {\n",
       "        vertical-align: top;\n",
       "    }\n",
       "\n",
       "    .dataframe thead th {\n",
       "        text-align: right;\n",
       "    }\n",
       "</style>\n",
       "<table border=\"1\" class=\"dataframe\">\n",
       "  <thead>\n",
       "    <tr style=\"text-align: right;\">\n",
       "      <th></th>\n",
       "      <th>Weight</th>\n",
       "    </tr>\n",
       "    <tr>\n",
       "      <th>Shipping_Method</th>\n",
       "      <th></th>\n",
       "    </tr>\n",
       "  </thead>\n",
       "  <tbody>\n",
       "    <tr>\n",
       "      <th>Air</th>\n",
       "      <td>2483.430183</td>\n",
       "    </tr>\n",
       "    <tr>\n",
       "      <th>Land</th>\n",
       "      <td>2516.141369</td>\n",
       "    </tr>\n",
       "    <tr>\n",
       "      <th>Sea</th>\n",
       "      <td>2407.767696</td>\n",
       "    </tr>\n",
       "  </tbody>\n",
       "</table>\n",
       "</div>"
      ],
      "text/plain": [
       "                      Weight\n",
       "Shipping_Method             \n",
       "Air              2483.430183\n",
       "Land             2516.141369\n",
       "Sea              2407.767696"
      ]
     },
     "execution_count": 110,
     "metadata": {},
     "output_type": "execute_result"
    }
   ],
   "source": [
    "# Shipping Costs vs Product Value [imported Products]\n",
    "\n",
    "import_sample.groupby('Shipping_Method')[['Weight']].mean()"
   ]
  },
  {
   "cell_type": "code",
   "execution_count": 111,
   "id": "0bfe075e",
   "metadata": {},
   "outputs": [
    {
     "data": {
      "text/html": [
       "<div>\n",
       "<style scoped>\n",
       "    .dataframe tbody tr th:only-of-type {\n",
       "        vertical-align: middle;\n",
       "    }\n",
       "\n",
       "    .dataframe tbody tr th {\n",
       "        vertical-align: top;\n",
       "    }\n",
       "\n",
       "    .dataframe thead th {\n",
       "        text-align: right;\n",
       "    }\n",
       "</style>\n",
       "<table border=\"1\" class=\"dataframe\">\n",
       "  <thead>\n",
       "    <tr style=\"text-align: right;\">\n",
       "      <th></th>\n",
       "      <th>Weight</th>\n",
       "    </tr>\n",
       "    <tr>\n",
       "      <th>Shipping_Method</th>\n",
       "      <th></th>\n",
       "    </tr>\n",
       "  </thead>\n",
       "  <tbody>\n",
       "    <tr>\n",
       "      <th>Air</th>\n",
       "      <td>2464.651029</td>\n",
       "    </tr>\n",
       "    <tr>\n",
       "      <th>Land</th>\n",
       "      <td>2491.490129</td>\n",
       "    </tr>\n",
       "    <tr>\n",
       "      <th>Sea</th>\n",
       "      <td>2486.747740</td>\n",
       "    </tr>\n",
       "  </tbody>\n",
       "</table>\n",
       "</div>"
      ],
      "text/plain": [
       "                      Weight\n",
       "Shipping_Method             \n",
       "Air              2464.651029\n",
       "Land             2491.490129\n",
       "Sea              2486.747740"
      ]
     },
     "execution_count": 111,
     "metadata": {},
     "output_type": "execute_result"
    }
   ],
   "source": [
    "# Shipping Costs vs Product Value [Exported Products]\n",
    "\n",
    "my_sample.groupby('Shipping_Method')[['Weight']].mean()"
   ]
  },
  {
   "cell_type": "markdown",
   "id": "da27e00b",
   "metadata": {},
   "source": [
    "*Due to various country compliances, different Forex and lack of data for prices for Shipping Methods, we will assume the cost of shipping to be negligible compared to The total Product Value*"
   ]
  },
  {
   "cell_type": "markdown",
   "id": "9dbb5c07",
   "metadata": {},
   "source": [
    "#### H. Payment Term Analysis"
   ]
  },
  {
   "cell_type": "code",
   "execution_count": 112,
   "id": "2c272fb4",
   "metadata": {},
   "outputs": [
    {
     "data": {
      "text/plain": [
       "Payment_Terms\n",
       "Prepaid             388\n",
       "Cash on Delivery    388\n",
       "Net 30              363\n",
       "Net 60              362\n",
       "Name: count, dtype: int64"
      ]
     },
     "execution_count": 112,
     "metadata": {},
     "output_type": "execute_result"
    }
   ],
   "source": [
    "# Common Payment Methods for Exported Products\n",
    "\n",
    "export_sample['Payment_Terms'].value_counts()"
   ]
  },
  {
   "cell_type": "code",
   "execution_count": 113,
   "id": "7bf31e2a",
   "metadata": {},
   "outputs": [
    {
     "data": {
      "text/plain": [
       "Payment_Terms\n",
       "Cash on Delivery    412\n",
       "Net 30              369\n",
       "Prepaid             366\n",
       "Net 60              353\n",
       "Name: count, dtype: int64"
      ]
     },
     "execution_count": 113,
     "metadata": {},
     "output_type": "execute_result"
    }
   ],
   "source": [
    "# Common Payment Methods for Imported Products\n",
    "\n",
    "import_sample['Payment_Terms'].value_counts()"
   ]
  },
  {
   "cell_type": "code",
   "execution_count": 114,
   "id": "e0d935b0",
   "metadata": {},
   "outputs": [
    {
     "data": {
      "text/html": [
       "<div>\n",
       "<style scoped>\n",
       "    .dataframe tbody tr th:only-of-type {\n",
       "        vertical-align: middle;\n",
       "    }\n",
       "\n",
       "    .dataframe tbody tr th {\n",
       "        vertical-align: top;\n",
       "    }\n",
       "\n",
       "    .dataframe thead th {\n",
       "        text-align: right;\n",
       "    }\n",
       "</style>\n",
       "<table border=\"1\" class=\"dataframe\">\n",
       "  <thead>\n",
       "    <tr style=\"text-align: right;\">\n",
       "      <th>Payment_Terms</th>\n",
       "      <th>Cash on Delivery</th>\n",
       "      <th>Net 30</th>\n",
       "      <th>Net 60</th>\n",
       "      <th>Prepaid</th>\n",
       "    </tr>\n",
       "    <tr>\n",
       "      <th>Country</th>\n",
       "      <th></th>\n",
       "      <th></th>\n",
       "      <th></th>\n",
       "      <th></th>\n",
       "    </tr>\n",
       "  </thead>\n",
       "  <tbody>\n",
       "    <tr>\n",
       "      <th>Afghanistan</th>\n",
       "      <td>2.0</td>\n",
       "      <td>3.0</td>\n",
       "      <td>3.0</td>\n",
       "      <td>6.0</td>\n",
       "    </tr>\n",
       "    <tr>\n",
       "      <th>Albania</th>\n",
       "      <td>3.0</td>\n",
       "      <td>5.0</td>\n",
       "      <td>2.0</td>\n",
       "      <td>5.0</td>\n",
       "    </tr>\n",
       "    <tr>\n",
       "      <th>Algeria</th>\n",
       "      <td>5.0</td>\n",
       "      <td>2.0</td>\n",
       "      <td>2.0</td>\n",
       "      <td>3.0</td>\n",
       "    </tr>\n",
       "    <tr>\n",
       "      <th>American Samoa</th>\n",
       "      <td>7.0</td>\n",
       "      <td>5.0</td>\n",
       "      <td>1.0</td>\n",
       "      <td>2.0</td>\n",
       "    </tr>\n",
       "    <tr>\n",
       "      <th>Andorra</th>\n",
       "      <td>1.0</td>\n",
       "      <td>1.0</td>\n",
       "      <td>2.0</td>\n",
       "      <td>5.0</td>\n",
       "    </tr>\n",
       "    <tr>\n",
       "      <th>...</th>\n",
       "      <td>...</td>\n",
       "      <td>...</td>\n",
       "      <td>...</td>\n",
       "      <td>...</td>\n",
       "    </tr>\n",
       "    <tr>\n",
       "      <th>Wallis and Futuna</th>\n",
       "      <td>6.0</td>\n",
       "      <td>3.0</td>\n",
       "      <td>4.0</td>\n",
       "      <td>2.0</td>\n",
       "    </tr>\n",
       "    <tr>\n",
       "      <th>Western Sahara</th>\n",
       "      <td>4.0</td>\n",
       "      <td>4.0</td>\n",
       "      <td>2.0</td>\n",
       "      <td>2.0</td>\n",
       "    </tr>\n",
       "    <tr>\n",
       "      <th>Yemen</th>\n",
       "      <td>1.0</td>\n",
       "      <td>1.0</td>\n",
       "      <td>2.0</td>\n",
       "      <td>3.0</td>\n",
       "    </tr>\n",
       "    <tr>\n",
       "      <th>Zambia</th>\n",
       "      <td>2.0</td>\n",
       "      <td>2.0</td>\n",
       "      <td>0.0</td>\n",
       "      <td>5.0</td>\n",
       "    </tr>\n",
       "    <tr>\n",
       "      <th>Zimbabwe</th>\n",
       "      <td>3.0</td>\n",
       "      <td>4.0</td>\n",
       "      <td>1.0</td>\n",
       "      <td>1.0</td>\n",
       "    </tr>\n",
       "  </tbody>\n",
       "</table>\n",
       "<p>243 rows × 4 columns</p>\n",
       "</div>"
      ],
      "text/plain": [
       "Payment_Terms      Cash on Delivery  Net 30  Net 60  Prepaid\n",
       "Country                                                     \n",
       "Afghanistan                     2.0     3.0     3.0      6.0\n",
       "Albania                         3.0     5.0     2.0      5.0\n",
       "Algeria                         5.0     2.0     2.0      3.0\n",
       "American Samoa                  7.0     5.0     1.0      2.0\n",
       "Andorra                         1.0     1.0     2.0      5.0\n",
       "...                             ...     ...     ...      ...\n",
       "Wallis and Futuna               6.0     3.0     4.0      2.0\n",
       "Western Sahara                  4.0     4.0     2.0      2.0\n",
       "Yemen                           1.0     1.0     2.0      3.0\n",
       "Zambia                          2.0     2.0     0.0      5.0\n",
       "Zimbabwe                        3.0     4.0     1.0      1.0\n",
       "\n",
       "[243 rows x 4 columns]"
      ]
     },
     "execution_count": 114,
     "metadata": {},
     "output_type": "execute_result"
    }
   ],
   "source": [
    "# Payment Terms by Country (Irrespective of Exported/Imported Product)\n",
    "\n",
    "payment_terms_by_country = my_sample.groupby('Country')['Payment_Terms'].value_counts().unstack().fillna(0)\n",
    "payment_terms_by_country"
   ]
  },
  {
   "cell_type": "code",
   "execution_count": 115,
   "id": "66bf325a",
   "metadata": {
    "scrolled": true
   },
   "outputs": [
    {
     "data": {
      "text/plain": [
       "Payment_Terms\n",
       "Cash on Delivery                                              Austria\n",
       "Net 30                                                        Armenia\n",
       "Net 60                                                  Guinea-Bissau\n",
       "Prepaid             British Indian Ocean Territory (Chagos Archipe...\n",
       "dtype: object"
      ]
     },
     "execution_count": 115,
     "metadata": {},
     "output_type": "execute_result"
    }
   ],
   "source": [
    "# Most Preffered Payment Terms by Countries\n",
    "payment_terms_by_country.idxmax()"
   ]
  },
  {
   "cell_type": "code",
   "execution_count": 116,
   "id": "333a85a4",
   "metadata": {},
   "outputs": [
    {
     "data": {
      "text/plain": [
       "Payment_Terms\n",
       "Cash on Delivery                                            Australia\n",
       "Net 30                                                        Austria\n",
       "Net 60              British Indian Ocean Territory (Chagos Archipe...\n",
       "Prepaid                                            Dominican Republic\n",
       "dtype: object"
      ]
     },
     "execution_count": 116,
     "metadata": {},
     "output_type": "execute_result"
    }
   ],
   "source": [
    "# Least Preffered Payment Terms by Countries\n",
    "payment_terms_by_country.idxmin()"
   ]
  },
  {
   "cell_type": "code",
   "execution_count": 117,
   "id": "0174edfd",
   "metadata": {},
   "outputs": [
    {
     "data": {
      "text/plain": [
       "1.2166666666666666"
      ]
     },
     "execution_count": 117,
     "metadata": {},
     "output_type": "execute_result"
    }
   ],
   "source": [
    "# Time Between Orders\n",
    "export_sample['Date'] = pd.to_datetime(export_sample['Date'])\n",
    "export_sample = export_sample.sort_values(by='Date')\n",
    "export_sample['Time_Between_Orders'] = export_sample['Date'].diff().dt.days\n",
    "export_sample['Time_Between_Orders'].mean()"
   ]
  },
  {
   "cell_type": "code",
   "execution_count": 118,
   "id": "aeb3daf9",
   "metadata": {},
   "outputs": [
    {
     "data": {
      "text/plain": [
       "1.218145430286858"
      ]
     },
     "execution_count": 118,
     "metadata": {},
     "output_type": "execute_result"
    }
   ],
   "source": [
    "import_sample['Date'] = pd.to_datetime(import_sample['Date'])\n",
    "import_sample = import_sample.sort_values(by='Date')\n",
    "import_sample['Time_Between_Orders'] = import_sample['Date'].diff().dt.days\n",
    "import_sample['Time_Between_Orders'].mean()"
   ]
  },
  {
   "cell_type": "markdown",
   "id": "4ef8ba93-a3e9-45ed-b618-e48e0b15be96",
   "metadata": {},
   "source": [
    "## All the visualizations and their analysis is in 055024_Trade_Visualization_and_Analysis.py streamlit file\n"
   ]
  },
  {
   "cell_type": "markdown",
   "id": "94b1f408",
   "metadata": {},
   "source": [
    "---> Comparabily Similar Times for both data"
   ]
  },
  {
   "cell_type": "markdown",
   "id": "d3cf44ad",
   "metadata": {},
   "source": [
    "--- End of Project ---"
   ]
  },
  {
   "cell_type": "markdown",
   "id": "92ace20e",
   "metadata": {},
   "source": [
    "---"
   ]
  }
 ],
 "metadata": {
  "kernelspec": {
   "display_name": "Python 3 (ipykernel)",
   "language": "python",
   "name": "python3"
  },
  "language_info": {
   "codemirror_mode": {
    "name": "ipython",
    "version": 3
   },
   "file_extension": ".py",
   "mimetype": "text/x-python",
   "name": "python",
   "nbconvert_exporter": "python",
   "pygments_lexer": "ipython3",
   "version": "3.11.7"
  }
 },
 "nbformat": 4,
 "nbformat_minor": 5
}
